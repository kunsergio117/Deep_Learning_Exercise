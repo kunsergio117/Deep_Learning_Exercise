{
 "cells": [
  {
   "cell_type": "code",
   "outputs": [],
   "source": [
    "from tensorflow import keras\n",
    "print('keras: ', keras.__version__)"
   ],
   "metadata": {
    "collapsed": false,
    "ExecuteTime": {
     "end_time": "2024-02-22T07:25:48.658177Z",
     "start_time": "2024-02-22T07:25:48.612794Z"
    }
   },
   "id": "abe31344207b56a4",
   "execution_count": 3
  },
  {
   "cell_type": "markdown",
   "source": [
    "## Objectives\n",
    "After completing this practical, I should be able to:\n",
    "1. [Build a neural network model to classify movie reviews ](#demo)\n",
    "2. [Exercise- tuning several model parameters](#exc)\n",
    "\n",
    "## 1. Classifying movie reviews (a binary classification example)  <a id='demo' />\n",
    "\n",
    "In this example, we will learn to classify movie reviews into \"positive\" reviews and \"negative\" reviews, just based on the text content of the reviews.\n",
    "\n",
    "### 1.1 The IMDB dataset\n",
    "\n",
    "The IMDB dataset has a set of 50,000 highly-polarized reviews from the Internet Movie Database. They are split into 25,000 reviews for training and 25,000 reviews for testing, each set consisting in 50% negative and 50% positive reviews.\n",
    "\n",
    "The IMDB dataset comes packaged with Keras. It has already been preprocessed: the reviews (sequences of words)\n",
    "have been turned into sequences of integers, where each integer stands for a specific word in a dictionary.\n",
    "\n",
    "The following code will load the dataset (when you run it for the first time, about 80MB of data will be downloaded to your machine):"
   ],
   "metadata": {
    "collapsed": false
   },
   "id": "9a69a79ccd02f1d9"
  },
  {
   "cell_type": "code",
   "outputs": [
    {
     "name": "stdout",
     "output_type": "stream",
     "text": [
      "Downloading data from https://storage.googleapis.com/tensorflow/tf-keras-datasets/imdb.npz\n",
      "17464789/17464789 [==============================] - 9s 1us/step\n"
     ]
    }
   ],
   "source": [
    "from tensorflow.keras.datasets import imdb\n",
    "(train_data, train_labels), (test_data, test_labels) = imdb.load_data(num_words=10000)"
   ],
   "metadata": {
    "collapsed": false,
    "ExecuteTime": {
     "end_time": "2024-02-22T07:26:37.398963Z",
     "start_time": "2024-02-22T07:26:00.565704Z"
    }
   },
   "id": "4b4c1e54cd5bedae",
   "execution_count": 4
  },
  {
   "cell_type": "markdown",
   "source": [
    "The argument `num_words=10000` means that we will only keep the top 10,000 most frequently occurring words in the training data. Rare words\n",
    "will be discarded. This allows us to work with vector data of manageable size.\n",
    "\n",
    "The variables `train_data` and `test_data` are lists of reviews, each review being a list of word indices (encoding a sequence of words).\n",
    "`train_labels` and `test_labels` are lists of 0s and 1s, where 0 stands for \"negative\" and 1 stands for \"positive\":"
   ],
   "metadata": {
    "collapsed": false
   },
   "id": "89b71685976c3ffb"
  },
  {
   "cell_type": "code",
   "outputs": [
    {
     "name": "stdout",
     "output_type": "stream",
     "text": [
      "[1, 13, 244, 6, 87, 337, 7, 628, 2219, 5, 28, 285, 15, 240, 93, 23, 288, 549, 18, 1455, 673, 4, 241, 534, 3635, 8448, 20, 38, 54, 13, 258, 46, 44, 14, 13, 1241, 7258, 12, 5, 5, 51, 9, 14, 45, 6, 762, 7, 2, 1309, 328, 5, 428, 2473, 15, 26, 1292, 5, 3939, 6728, 5, 1960, 279, 13, 92, 124, 803, 52, 21, 279, 14, 9, 43, 6, 762, 7, 595, 15, 16, 2, 23, 4, 1071, 467, 4, 403, 7, 628, 2219, 8, 97, 6, 171, 3596, 99, 387, 72, 97, 12, 788, 15, 13, 161, 459, 44, 4, 3939, 1101, 173, 21, 69, 8, 401, 2, 4, 481, 88, 61, 4731, 238, 28, 32, 11, 32, 14, 9, 6, 545, 1332, 766, 5, 203, 73, 28, 43, 77, 317, 11, 4, 2, 953, 270, 17, 6, 3616, 13, 545, 386, 25, 92, 1142, 129, 278, 23, 14, 241, 46, 7, 158]\n",
      "\n",
      "the length of this training sample is:  158\n"
     ]
    },
    {
     "data": {
      "text/plain": "0"
     },
     "execution_count": 5,
     "metadata": {},
     "output_type": "execute_result"
    }
   ],
   "source": [
    "import numpy as np\n",
    "\n",
    "print(train_data[100])\n",
    "print('\\nthe length of this training sample is: ',len(train_data[100]))\n",
    "\n",
    "train_labels[100]"
   ],
   "metadata": {
    "collapsed": false,
    "ExecuteTime": {
     "end_time": "2024-02-22T07:27:46.955002Z",
     "start_time": "2024-02-22T07:27:46.729447Z"
    }
   },
   "id": "ece4e94bcabdc7d",
   "execution_count": 5
  },
  {
   "cell_type": "markdown",
   "source": [
    "Since we restricted ourselves to the top 10,000 most frequent words, no word index will exceed 10,000:"
   ],
   "metadata": {
    "collapsed": false
   },
   "id": "95f65d047bcdf594"
  },
  {
   "cell_type": "code",
   "outputs": [
    {
     "data": {
      "text/plain": "9999"
     },
     "execution_count": 6,
     "metadata": {},
     "output_type": "execute_result"
    }
   ],
   "source": [
    "max(np.array([max(sequence) for sequence in train_data]))"
   ],
   "metadata": {
    "collapsed": false,
    "ExecuteTime": {
     "end_time": "2024-02-22T07:27:57.400841Z",
     "start_time": "2024-02-22T07:27:55.160500Z"
    }
   },
   "id": "d5187663e7b86a8f",
   "execution_count": 6
  },
  {
   "cell_type": "markdown",
   "source": [
    "Just to try, here's how you can quickly decode one of these reviews back to English words:"
   ],
   "metadata": {
    "collapsed": false
   },
   "id": "a6fdb804dc5e5500"
  },
  {
   "cell_type": "code",
   "outputs": [
    {
     "name": "stdout",
     "output_type": "stream",
     "text": [
      "Downloading data from https://storage.googleapis.com/tensorflow/tf-keras-datasets/imdb_word_index.json\n",
      "1641221/1641221 [==============================] - 1s 0us/step\n"
     ]
    },
    {
     "data": {
      "text/plain": "\"? i am a great fan of david lynch and have everything that he's made on dvd except for hotel room the 2 hour twin peaks movie so when i found out about this i immediately grabbed it and and what is this it's a bunch of ? drawn black and white cartoons that are loud and foul mouthed and unfunny maybe i don't know what's good but maybe this is just a bunch of crap that was ? on the public under the name of david lynch to make a few bucks too let me make it clear that i didn't care about the foul language part but had to keep ? the sound because my neighbors might have all in all this is a highly disappointing release and may well have just been left in the ? box set as a curiosity i highly recommend you don't spend your money on this 2 out of 10\""
     },
     "execution_count": 8,
     "metadata": {},
     "output_type": "execute_result"
    }
   ],
   "source": [
    "# word_index is a dictionary mapping words to an integer index\n",
    "word_index = imdb.get_word_index()\n",
    "# We reverse it, mapping integer indices to words\n",
    "reverse_word_index = dict([(value, key) for (key, value) in word_index.items()])\n",
    "# We decode the review; note that our indices were offset by 3\n",
    "# because 0, 1 and 2 are reserved indices for \"padding\", \"start of sequence\", and \"unknown\".\n",
    "decoded_review = ' '.join([reverse_word_index.get(i - 3, '?') for i in train_data[100]])\n",
    "\n",
    "decoded_review"
   ],
   "metadata": {
    "collapsed": false,
    "ExecuteTime": {
     "end_time": "2024-02-22T07:29:01.530500Z",
     "start_time": "2024-02-22T07:28:59.133216Z"
    }
   },
   "id": "8eeb6af6eb0aca8f",
   "execution_count": 8
  },
  {
   "cell_type": "markdown",
   "source": [
    "### 1.2 Preparing the data\n",
    "\n",
    "We cannot feed lists of integers into a neural network. We have to turn our lists into tensors. We use one-hot-encode to turn our lists into vectors of 0s and 1s.\n",
    "For example, turning the sequence `[3, 5]` into a 10,000-dimensional vector that would be all-zeros except for indices 3 and 5, which would be ones.\n",
    "Let's vectorize our data, which we will do manually for maximum clarity:"
   ],
   "metadata": {
    "collapsed": false
   },
   "id": "6df5a2772fb3c054"
  },
  {
   "cell_type": "code",
   "outputs": [],
   "source": [
    "import numpy as np\n",
    "\n",
    "def vectorize_sequences(sequences, dimension=10000):\n",
    "    # Create an all-zero matrix of shape (len(sequences), dimension)\n",
    "    results = np.zeros((len(sequences), dimension))\n",
    "    for i, sequence in enumerate(sequences):\n",
    "        results[i, sequence] = 1.  # set specific indices of results[i] to 1s\n",
    "    return results\n",
    "\n",
    "# Our vectorized training data\n",
    "x_train = vectorize_sequences(train_data)\n",
    "# Our vectorized test data\n",
    "x_test = vectorize_sequences(test_data)"
   ],
   "metadata": {
    "collapsed": false,
    "ExecuteTime": {
     "end_time": "2024-02-22T07:43:08.514846Z",
     "start_time": "2024-02-22T07:43:01.535416Z"
    }
   },
   "id": "b9b5690e86e5ddef",
   "execution_count": 17
  },
  {
   "cell_type": "markdown",
   "source": [
    "Here's what our samples look like now:"
   ],
   "metadata": {
    "collapsed": false
   },
   "id": "f1286e2169892091"
  },
  {
   "cell_type": "code",
   "outputs": [
    {
     "name": "stdout",
     "output_type": "stream",
     "text": [
      "train_data[100] is: \n",
      " [1, 13, 244, 6, 87, 337, 7, 628, 2219, 5, 28, 285, 15, 240, 93, 23, 288, 549, 18, 1455, 673, 4, 241, 534, 3635, 8448, 20, 38, 54, 13, 258, 46, 44, 14, 13, 1241, 7258, 12, 5, 5, 51, 9, 14, 45, 6, 762, 7, 2, 1309, 328, 5, 428, 2473, 15, 26, 1292, 5, 3939, 6728, 5, 1960, 279, 13, 92, 124, 803, 52, 21, 279, 14, 9, 43, 6, 762, 7, 595, 15, 16, 2, 23, 4, 1071, 467, 4, 403, 7, 628, 2219, 8, 97, 6, 171, 3596, 99, 387, 72, 97, 12, 788, 15, 13, 161, 459, 44, 4, 3939, 1101, 173, 21, 69, 8, 401, 2, 4, 481, 88, 61, 4731, 238, 28, 32, 11, 32, 14, 9, 6, 545, 1332, 766, 5, 203, 73, 28, 43, 77, 317, 11, 4, 2, 953, 270, 17, 6, 3616, 13, 545, 386, 25, 92, 1142, 129, 278, 23, 14, 241, 46, 7, 158]\n",
      "\n",
      " After one-hot-encode, train_data[100] is encoded to x_train[100]: \n",
      " [0. 1. 1. ... 0. 0. 0.]\n",
      "\n",
      " The index of non-zero elements in x_train[100] are : \n",
      " (array([   1,    2,    4,    5,    6,    7,    8,    9,   11,   12,   13,\n",
      "         14,   15,   16,   17,   18,   20,   21,   23,   25,   26,   28,\n",
      "         32,   38,   43,   44,   45,   46,   51,   52,   54,   61,   69,\n",
      "         72,   73,   77,   87,   88,   92,   93,   97,   99,  124,  129,\n",
      "        158,  161,  171,  173,  203,  238,  240,  241,  244,  258,  270,\n",
      "        278,  279,  285,  288,  317,  328,  337,  386,  387,  401,  403,\n",
      "        428,  459,  467,  481,  534,  545,  549,  595,  628,  673,  762,\n",
      "        766,  788,  803,  953, 1071, 1101, 1142, 1241, 1292, 1309, 1332,\n",
      "       1455, 1960, 2219, 2473, 3596, 3616, 3635, 3939, 4731, 6728, 7258,\n",
      "       8448]),)\n"
     ]
    }
   ],
   "source": [
    "x_train.shape\n",
    "\n",
    "x_train[100]\n",
    "\n",
    "print('train_data[100] is: \\n', train_data[100])\n",
    "print('\\n After one-hot-encode, train_data[100] is encoded to x_train[100]: \\n', x_train[100])\n",
    "print('\\n The index of non-zero elements in x_train[100] are : \\n', np.nonzero(x_train[100]))"
   ],
   "metadata": {
    "collapsed": false,
    "ExecuteTime": {
     "end_time": "2024-02-22T07:43:08.857022Z",
     "start_time": "2024-02-22T07:43:08.816564Z"
    }
   },
   "id": "acaeb9bc401878c3",
   "execution_count": 18
  },
  {
   "cell_type": "markdown",
   "source": [
    "We should also vectorize our labels, which is straightforward:"
   ],
   "metadata": {
    "collapsed": false
   },
   "id": "6c0a2687a97243ca"
  },
  {
   "cell_type": "code",
   "outputs": [
    {
     "data": {
      "text/plain": "0.0"
     },
     "execution_count": 19,
     "metadata": {},
     "output_type": "execute_result"
    }
   ],
   "source": [
    "train_labels[100]\n",
    "\n",
    "# Our vectorized labels\n",
    "y_train = np.asarray(train_labels).astype('float32')\n",
    "y_test = np.asarray(test_labels).astype('float32')\n",
    "\n",
    "y_train[100]"
   ],
   "metadata": {
    "collapsed": false,
    "ExecuteTime": {
     "end_time": "2024-02-22T07:43:13.472449Z",
     "start_time": "2024-02-22T07:43:13.416336Z"
    }
   },
   "id": "b17d8c02ad5a5a79",
   "execution_count": 19
  },
  {
   "cell_type": "markdown",
   "source": [
    "Now our data is ready to be fed into a neural network."
   ],
   "metadata": {
    "collapsed": false
   },
   "id": "2c50c921d9b51485"
  },
  {
   "cell_type": "markdown",
   "source": [
    "\n",
    "### 1.3 Building our network\n",
    "\n",
    "\n",
    "Our input data is simply vectors, and our labels are scalars (1s and 0s). Let's implement it in Keras."
   ],
   "metadata": {
    "collapsed": false
   },
   "id": "d5560f73050f7614"
  },
  {
   "cell_type": "code",
   "outputs": [
    {
     "name": "stdout",
     "output_type": "stream",
     "text": [
      "Model: \"sequential_1\"\n",
      "_________________________________________________________________\n",
      " Layer (type)                Output Shape              Param #   \n",
      "=================================================================\n",
      " dense_3 (Dense)             (None, 16)                160016    \n",
      "                                                                 \n",
      " dense_4 (Dense)             (None, 16)                272       \n",
      "                                                                 \n",
      " dense_5 (Dense)             (None, 1)                 17        \n",
      "                                                                 \n",
      "=================================================================\n",
      "Total params: 160305 (626.19 KB)\n",
      "Trainable params: 160305 (626.19 KB)\n",
      "Non-trainable params: 0 (0.00 Byte)\n",
      "_________________________________________________________________\n"
     ]
    }
   ],
   "source": [
    "from tensorflow.keras import models\n",
    "from tensorflow.keras import layers\n",
    "\n",
    "model = models.Sequential()\n",
    "model.add(layers.Dense(16, activation='relu', input_shape=(10000,)))\n",
    "model.add(layers.Dense(16, activation='relu'))\n",
    "model.add(layers.Dense(1, activation='sigmoid'))\n",
    "\n",
    "model.summary()"
   ],
   "metadata": {
    "collapsed": false,
    "ExecuteTime": {
     "end_time": "2024-02-22T07:43:15.685054Z",
     "start_time": "2024-02-22T07:43:15.125488Z"
    }
   },
   "id": "cdf678788f30aef2",
   "execution_count": 20
  },
  {
   "cell_type": "markdown",
   "source": [
    "Lastly, we configure our model with the `rmsprop` optimizer and the `binary_crossentropy` loss function. Note that we will\n",
    "also monitor accuracy during training."
   ],
   "metadata": {
    "collapsed": false
   },
   "id": "5670ad0331ab992a"
  },
  {
   "cell_type": "code",
   "outputs": [],
   "source": [
    "model.compile(optimizer='rmsprop',\n",
    "              loss='binary_crossentropy',\n",
    "              metrics=['acc'])"
   ],
   "metadata": {
    "collapsed": false,
    "ExecuteTime": {
     "end_time": "2024-02-22T07:44:09.579066Z",
     "start_time": "2024-02-22T07:44:09.444654Z"
    }
   },
   "id": "a5d8f108c0b7d79d",
   "execution_count": 24
  },
  {
   "cell_type": "markdown",
   "source": [
    "We are passing our optimizer, loss function and metrics as strings, which is possible because `rmsprop`, `binary_crossentropy` and `accuracy` are packaged as part of Keras.\n",
    "\n",
    "### 1.4 Validating our approach\n",
    "\n",
    "In order to monitor during training the accuracy of the model on data that it has never seen before, we will create a \"validation set\" by\n",
    "setting apart 10,000 samples from the original training data:"
   ],
   "metadata": {
    "collapsed": false
   },
   "id": "3d137170298d0ecb"
  },
  {
   "cell_type": "code",
   "outputs": [],
   "source": [
    "x_val = x_train[:10000]\n",
    "partial_x_train = x_train[10000:]\n",
    "\n",
    "y_val = y_train[:10000]\n",
    "partial_y_train = y_train[10000:]"
   ],
   "metadata": {
    "collapsed": false,
    "ExecuteTime": {
     "end_time": "2024-02-22T07:44:16.661921Z",
     "start_time": "2024-02-22T07:44:16.581142Z"
    }
   },
   "id": "e31a6aeb355da24d",
   "execution_count": 25
  },
  {
   "cell_type": "markdown",
   "source": [
    "We will now train our model for 20 epochs, in mini-batches of 512 samples. At same time we will monitor loss and accuracy on the 10,000 samples that we set apart. This is done by passing the validation data as the `validation_data` argument:"
   ],
   "metadata": {
    "collapsed": false
   },
   "id": "8c2dc182b5707d05"
  },
  {
   "cell_type": "code",
   "outputs": [
    {
     "name": "stdout",
     "output_type": "stream",
     "text": [
      "Epoch 1/20\n",
      "30/30 [==============================] - 11s 302ms/step - loss: 0.5236 - acc: 0.7839 - val_loss: 0.3975 - val_acc: 0.8661\n",
      "Epoch 2/20\n",
      "30/30 [==============================] - 2s 63ms/step - loss: 0.3220 - acc: 0.8967 - val_loss: 0.3115 - val_acc: 0.8864\n",
      "Epoch 3/20\n",
      "30/30 [==============================] - 1s 34ms/step - loss: 0.2432 - acc: 0.9203 - val_loss: 0.2925 - val_acc: 0.8835\n",
      "Epoch 4/20\n",
      "30/30 [==============================] - 1s 28ms/step - loss: 0.1984 - acc: 0.9332 - val_loss: 0.3057 - val_acc: 0.8743\n",
      "Epoch 5/20\n",
      "30/30 [==============================] - 1s 23ms/step - loss: 0.1657 - acc: 0.9462 - val_loss: 0.3006 - val_acc: 0.8798\n",
      "Epoch 6/20\n",
      "30/30 [==============================] - 1s 38ms/step - loss: 0.1417 - acc: 0.9557 - val_loss: 0.3134 - val_acc: 0.8768\n",
      "Epoch 7/20\n",
      "30/30 [==============================] - 1s 28ms/step - loss: 0.1220 - acc: 0.9613 - val_loss: 0.3004 - val_acc: 0.8800\n",
      "Epoch 8/20\n",
      "30/30 [==============================] - 1s 37ms/step - loss: 0.1063 - acc: 0.9678 - val_loss: 0.3194 - val_acc: 0.8832\n",
      "Epoch 9/20\n",
      "30/30 [==============================] - 1s 33ms/step - loss: 0.0909 - acc: 0.9735 - val_loss: 0.3367 - val_acc: 0.8808\n",
      "Epoch 10/20\n",
      "30/30 [==============================] - 1s 24ms/step - loss: 0.0790 - acc: 0.9774 - val_loss: 0.3364 - val_acc: 0.8789\n",
      "Epoch 11/20\n",
      "30/30 [==============================] - 1s 32ms/step - loss: 0.0685 - acc: 0.9814 - val_loss: 0.3644 - val_acc: 0.8740\n",
      "Epoch 12/20\n",
      "30/30 [==============================] - 1s 33ms/step - loss: 0.0583 - acc: 0.9863 - val_loss: 0.3774 - val_acc: 0.8745\n",
      "Epoch 13/20\n",
      "30/30 [==============================] - 1s 29ms/step - loss: 0.0488 - acc: 0.9892 - val_loss: 0.3933 - val_acc: 0.8742\n",
      "Epoch 14/20\n",
      "30/30 [==============================] - 1s 29ms/step - loss: 0.0446 - acc: 0.9899 - val_loss: 0.4143 - val_acc: 0.8752\n",
      "Epoch 15/20\n",
      "30/30 [==============================] - 1s 25ms/step - loss: 0.0361 - acc: 0.9928 - val_loss: 0.4365 - val_acc: 0.8736\n",
      "Epoch 16/20\n",
      "30/30 [==============================] - 1s 35ms/step - loss: 0.0311 - acc: 0.9937 - val_loss: 0.4589 - val_acc: 0.8737\n",
      "Epoch 17/20\n",
      "30/30 [==============================] - 1s 25ms/step - loss: 0.0251 - acc: 0.9961 - val_loss: 0.4773 - val_acc: 0.8725\n",
      "Epoch 18/20\n",
      "30/30 [==============================] - 1s 30ms/step - loss: 0.0210 - acc: 0.9969 - val_loss: 0.4991 - val_acc: 0.8711\n",
      "Epoch 19/20\n",
      "30/30 [==============================] - 1s 41ms/step - loss: 0.0185 - acc: 0.9978 - val_loss: 0.5227 - val_acc: 0.8703\n",
      "Epoch 20/20\n",
      "30/30 [==============================] - 1s 31ms/step - loss: 0.0154 - acc: 0.9985 - val_loss: 0.6190 - val_acc: 0.8562\n"
     ]
    }
   ],
   "source": [
    "history = model.fit(partial_x_train,\n",
    "                    partial_y_train,\n",
    "                    epochs=20,\n",
    "                    batch_size=512,\n",
    "                    validation_data=(x_val, y_val))"
   ],
   "metadata": {
    "collapsed": false,
    "ExecuteTime": {
     "end_time": "2024-02-22T07:45:01.612147Z",
     "start_time": "2024-02-22T07:44:20.661576Z"
    }
   },
   "id": "428e24ca961ecacd",
   "execution_count": 26
  },
  {
   "cell_type": "markdown",
   "source": [
    "Note that the call to `model.fit()` returns a `history` object. This object has a member `history`, which is a dictionary containing data about everything that happened during training. Let's take a look at it:"
   ],
   "metadata": {
    "collapsed": false
   },
   "id": "557d7454ca49c3b5"
  },
  {
   "cell_type": "code",
   "outputs": [
    {
     "data": {
      "text/plain": "dict_keys(['loss', 'acc', 'val_loss', 'val_acc'])"
     },
     "execution_count": 27,
     "metadata": {},
     "output_type": "execute_result"
    }
   ],
   "source": [
    "history_dict = history.history\n",
    "history_dict.keys()"
   ],
   "metadata": {
    "collapsed": false,
    "ExecuteTime": {
     "end_time": "2024-02-22T07:45:01.717317Z",
     "start_time": "2024-02-22T07:45:01.624401Z"
    }
   },
   "id": "b8fd47b1c3d0973",
   "execution_count": 27
  },
  {
   "cell_type": "markdown",
   "source": [
    "It contains 4 entries: one per metric that was being monitored, during training and during validation. Let's use Matplotlib to plot the\n",
    "training and validation loss side by side, as well as the training and validation accuracy:"
   ],
   "metadata": {
    "collapsed": false
   },
   "id": "9eee20b4e54f11ab"
  },
  {
   "cell_type": "code",
   "outputs": [
    {
     "data": {
      "text/plain": "<Figure size 640x480 with 1 Axes>",
      "image/png": "[encoded data removed]"
     },
     "metadata": {},
     "output_type": "display_data"
    },
    {
     "data": {
      "text/plain": "<Figure size 640x480 with 1 Axes>",
      "image/png": "[encoded data removed]"
     },
     "metadata": {},
     "output_type": "display_data"
    }
   ],
   "source": [
    "import matplotlib.pyplot as plt\n",
    "%matplotlib inline\n",
    "\n",
    "acc = history.history['acc']\n",
    "val_acc = history.history['val_acc']\n",
    "loss = history.history['loss']\n",
    "val_loss = history.history['val_loss']\n",
    "\n",
    "epochs = range(1, len(acc) + 1)\n",
    "\n",
    "# \"bo\" is for \"blue dot\"\n",
    "plt.plot(epochs, loss, 'bo', label='Training loss')\n",
    "# b is for \"solid blue line\"\n",
    "plt.plot(epochs, val_loss, 'b', label='Validation loss')\n",
    "plt.title('Training and validation loss')\n",
    "plt.xlabel('Epochs')\n",
    "plt.ylabel('Loss')\n",
    "plt.legend()\n",
    "plt.show()\n",
    "\n",
    "plt.clf()   # clear figure\n",
    "plt.plot(epochs, acc, 'bo', label='Training acc')\n",
    "plt.plot(epochs, val_acc, 'b', label='Validation acc')\n",
    "plt.title('Training and validation accuracy')\n",
    "plt.xlabel('Epochs')\n",
    "plt.ylabel('Accuracy')\n",
    "plt.legend()\n",
    "\n",
    "plt.show()"
   ],
   "metadata": {
    "collapsed": false,
    "ExecuteTime": {
     "end_time": "2024-02-22T07:45:03.720120Z",
     "start_time": "2024-02-22T07:45:01.676083Z"
    }
   },
   "id": "ec982f9cdcf82a27",
   "execution_count": 28
  },
  {
   "cell_type": "markdown",
   "source": [
    "The dots are the training loss and accuracy, while the solid lines are the validation loss and accuracy. As you can see, the training loss decreases with every epoch and the training accuracy increases with every epoch. That's what you would\n",
    "expect when running gradient descent optimization -- the quantity you are trying to minimize should get lower with every iteration. But that isn't the case for the validation loss and accuracy: they seem to peak at the fourth epoch. A model that performs better on the training data isn't necessarily a model that will do better on data it has never seen before. What you are seeing is \"overfitting\": after the second epoch, we are over-optimizing on the training data, and we ended up learning representations that are specific to the training data and do not generalize to data outside of the training set.\n",
    "\n",
    "In this case, to prevent overfitting, we could simply stop training after three epochs. Let's train a new network from scratch for four epochs, then evaluate it on our test data:"
   ],
   "metadata": {
    "collapsed": false
   },
   "id": "5d9ef44ff92d21d2"
  },
  {
   "cell_type": "code",
   "outputs": [
    {
     "name": "stdout",
     "output_type": "stream",
     "text": [
      "Epoch 1/4\n",
      "49/49 [==============================] - 1s 12ms/step - loss: 0.5133 - acc: 0.8064\n",
      "Epoch 2/4\n",
      "49/49 [==============================] - 1s 10ms/step - loss: 0.3102 - acc: 0.8928\n",
      "Epoch 3/4\n",
      "49/49 [==============================] - 1s 11ms/step - loss: 0.2411 - acc: 0.9136\n",
      "Epoch 4/4\n",
      "49/49 [==============================] - 1s 11ms/step - loss: 0.2040 - acc: 0.9261\n",
      "782/782 - 2s - loss: 0.2850 - acc: 0.8856 - 2s/epoch - 2ms/step\n"
     ]
    },
    {
     "data": {
      "text/plain": "[0.2849917709827423, 0.8855599761009216]"
     },
     "execution_count": 33,
     "metadata": {},
     "output_type": "execute_result"
    }
   ],
   "source": [
    "model = models.Sequential()\n",
    "model.add(layers.Dense(16, activation='relu', input_shape=(10000,)))\n",
    "model.add(layers.Dense(16, activation='relu'))\n",
    "model.add(layers.Dense(1, activation='sigmoid'))\n",
    "\n",
    "model.compile(optimizer='rmsprop',\n",
    "              loss='binary_crossentropy',\n",
    "              metrics=['acc'])\n",
    "\n",
    "model.fit(x_train, y_train, epochs=4, batch_size=512)\n",
    "\n",
    "\n",
    "results = model.evaluate(x_test, y_test, verbose=2)\n",
    "results # returns the loss value and accuracy\n"
   ],
   "metadata": {
    "collapsed": false,
    "ExecuteTime": {
     "end_time": "2024-02-22T07:47:32.122871Z",
     "start_time": "2024-02-22T07:47:06.867232Z"
    }
   },
   "id": "9f6edba22bc73ffa",
   "execution_count": 33
  },
  {
   "cell_type": "markdown",
   "source": [
    "Our fairly naive approach achieves an accuracy of 88.56%. With state-of-the-art approaches, one should be able to get close to 95%.\n",
    "\n",
    "### 1.5 Using a trained network to generate predictions on new data\n",
    "\n",
    "After having trained a network, you will want to use it in a practical setting. You can generate the likelihood of reviews being positive\n",
    "by using the `predict` method:\n"
   ],
   "metadata": {
    "collapsed": false
   },
   "id": "80493ef9b34e3b61"
  },
  {
   "cell_type": "code",
   "outputs": [
    {
     "name": "stdout",
     "output_type": "stream",
     "text": [
      "782/782 [==============================] - 1s 1ms/step\n"
     ]
    },
    {
     "data": {
      "text/plain": "array([[0.01954212],\n       [0.99852324],\n       [0.85506445],\n       ...,\n       [0.00974065],\n       [0.01171114],\n       [0.8481086 ]], dtype=float32)"
     },
     "execution_count": 37,
     "metadata": {},
     "output_type": "execute_result"
    }
   ],
   "source": [
    "model.predict(x_test)"
   ],
   "metadata": {
    "collapsed": false,
    "ExecuteTime": {
     "end_time": "2024-02-22T07:53:07.035177Z",
     "start_time": "2024-02-22T07:52:56.920826Z"
    }
   },
   "id": "1040d58d32f16737",
   "execution_count": 37
  },
  {
   "cell_type": "markdown",
   "source": [
    "As you can see, the network is very confident for some samples (0.99 or more, or 0.01 or less) but less confident for others (0.6, 0.4).\n"
   ],
   "metadata": {
    "collapsed": false
   },
   "id": "eb07ef771cdd2ff6"
  },
  {
   "cell_type": "markdown",
   "source": [
    "## 2. Exercise - tuning model parameters <a id='demo' />\n",
    "Please try to improve model performance by tuning below hyperparameters:\n",
    "* number of layers\n",
    "* number of units in each layer\n",
    "* number of epochs\n",
    "* activation function (e.g. change relu to sigmoid)\n",
    "* Any other suitable hyperparameters\n",
    "\n",
    "### In the below code I utilize the above parameters to achieve a higher validatoin accuracy, and maintain the accuracy loss curve.\n",
    "I choose to:\n",
    " * lower the epochs so as to avoid overfitting, \n",
    " * reduce the units per Dense layer,\n",
    " * reduce batch size,\n",
    " * and use a sigmoid acitivation for each layer."
   ],
   "metadata": {
    "collapsed": false
   },
   "id": "d1b009d92193f58"
  },
  {
   "cell_type": "code",
   "outputs": [
    {
     "name": "stdout",
     "output_type": "stream",
     "text": [
      "Model: \"sequential_6\"\n",
      "_________________________________________________________________\n",
      " Layer (type)                Output Shape              Param #   \n",
      "=================================================================\n",
      " dense_18 (Dense)            (None, 8)                 80008     \n",
      "                                                                 \n",
      " dense_19 (Dense)            (None, 8)                 72        \n",
      "                                                                 \n",
      " dense_20 (Dense)            (None, 1)                 9         \n",
      "                                                                 \n",
      "=================================================================\n",
      "Total params: 80089 (312.85 KB)\n",
      "Trainable params: 80089 (312.85 KB)\n",
      "Non-trainable params: 0 (0.00 Byte)\n",
      "_________________________________________________________________\n"
     ]
    }
   ],
   "source": [
    "from tensorflow.keras import models\n",
    "from tensorflow.keras import layers\n",
    "\n",
    "model = models.Sequential()\n",
    "model.add(layers.Dense(8, activation='sigmoid', input_shape=(10000,)))\n",
    "model.add(layers.Dense(8, activation='sigmoid'))\n",
    "model.add(layers.Dense(1, activation='sigmoid'))\n",
    "model.summary()\n"
   ],
   "metadata": {
    "collapsed": false,
    "ExecuteTime": {
     "end_time": "2024-02-22T08:00:38.927988Z",
     "start_time": "2024-02-22T08:00:38.225135Z"
    }
   },
   "id": "6739befc68ad9ae9",
   "execution_count": 39
  },
  {
   "cell_type": "code",
   "outputs": [
    {
     "name": "stdout",
     "output_type": "stream",
     "text": [
      "Epoch 1/4\n",
      "125/125 [==============================] - 9s 63ms/step - loss: 0.7837 - acc: 0.4965 - val_loss: 0.7031 - val_acc: 0.5053\n",
      "Epoch 2/4\n",
      "125/125 [==============================] - 2s 14ms/step - loss: 0.6901 - acc: 0.5280 - val_loss: 0.6709 - val_acc: 0.6136\n",
      "Epoch 3/4\n",
      "125/125 [==============================] - 1s 7ms/step - loss: 0.6245 - acc: 0.7042 - val_loss: 0.5753 - val_acc: 0.8126\n",
      "Epoch 4/4\n",
      "125/125 [==============================] - 1s 8ms/step - loss: 0.5224 - acc: 0.8487 - val_loss: 0.4821 - val_acc: 0.8547\n"
     ]
    },
    {
     "data": {
      "text/plain": "<Figure size 640x480 with 1 Axes>",
      "image/png": "[encoded data removed]"
     },
     "metadata": {},
     "output_type": "display_data"
    },
    {
     "data": {
      "text/plain": "<Figure size 640x480 with 1 Axes>",
      "image/png": "[encoded data removed]"
     },
     "metadata": {},
     "output_type": "display_data"
    },
    {
     "name": "stdout",
     "output_type": "stream",
     "text": [
      "782/782 - 2s - loss: 0.4865 - acc: 0.8551 - 2s/epoch - 3ms/step\n"
     ]
    },
    {
     "data": {
      "text/plain": "[0.4864792823791504, 0.8551200032234192]"
     },
     "execution_count": 40,
     "metadata": {},
     "output_type": "execute_result"
    }
   ],
   "source": [
    "# compiling and plotting graphs:\n",
    "model.compile(optimizer='rmsprop',\n",
    "              loss='binary_crossentropy',\n",
    "              metrics=['acc'])\n",
    "\n",
    "x_val = x_train[:10000]\n",
    "partial_x_train = x_train[10000:]\n",
    "\n",
    "y_val = y_train[:10000]\n",
    "partial_y_train = y_train[10000:]\n",
    "\n",
    "history = model.fit(partial_x_train,\n",
    "                    partial_y_train,\n",
    "                    epochs=4,\n",
    "                    batch_size=120,\n",
    "                    validation_data=(x_val, y_val))\n",
    "\n",
    "history_dict = history.history\n",
    "history_dict.keys()\n",
    "\n",
    "import matplotlib.pyplot as plt\n",
    "%matplotlib inline\n",
    "\n",
    "acc = history.history['acc']\n",
    "val_acc = history.history['val_acc']\n",
    "loss = history.history['loss']\n",
    "val_loss = history.history['val_loss']\n",
    "\n",
    "epochs = range(1, len(acc) + 1)\n",
    "\n",
    "# \"bo\" is for \"blue dot\"\n",
    "plt.plot(epochs, loss, 'bo', label='Training loss')\n",
    "# b is for \"solid blue line\"\n",
    "plt.plot(epochs, val_loss, 'b', label='Validation loss')\n",
    "plt.title('Training and validation loss')\n",
    "plt.xlabel('Epochs')\n",
    "plt.ylabel('Loss')\n",
    "plt.legend()\n",
    "plt.show()\n",
    "\n",
    "plt.clf()   # clear figure\n",
    "plt.plot(epochs, acc, 'bo', label='Training acc')\n",
    "plt.plot(epochs, val_acc, 'b', label='Validation acc')\n",
    "plt.title('Training and validation accuracy')\n",
    "plt.xlabel('Epochs')\n",
    "plt.ylabel('Accuracy')\n",
    "plt.legend()\n",
    "\n",
    "plt.show()\n",
    "\n",
    "results = model.evaluate(x_test, y_test, verbose=2)\n",
    "results # returns the loss value and accuracy"
   ],
   "metadata": {
    "collapsed": false,
    "ExecuteTime": {
     "end_time": "2024-02-22T08:01:50.319124Z",
     "start_time": "2024-02-22T08:01:06.236164Z"
    }
   },
   "id": "b33d9e498310246",
   "execution_count": 40
  },
  {
   "cell_type": "code",
   "outputs": [
    {
     "name": "stdout",
     "output_type": "stream",
     "text": [
      "782/782 [==============================] - 2s 2ms/step\n"
     ]
    },
    {
     "data": {
      "text/plain": "array([[0.49347827],\n       [0.8129099 ],\n       [0.7326207 ],\n       ...,\n       [0.37549272],\n       [0.40590012],\n       [0.5475349 ]], dtype=float32)"
     },
     "execution_count": 41,
     "metadata": {},
     "output_type": "execute_result"
    }
   ],
   "source": [
    "model.predict(x_test)"
   ],
   "metadata": {
    "collapsed": false,
    "ExecuteTime": {
     "end_time": "2024-02-22T08:02:52.374567Z",
     "start_time": "2024-02-22T08:02:33.507749Z"
    }
   },
   "id": "8f9eae0474fc1a3c",
   "execution_count": 41
  },
  {
   "cell_type": "markdown",
   "source": [
    "Hence I manage to increase the confidence of the model for all reviews, but at the cost of spikes in confidence for only a set few reviews, which can be further improved through further testing."
   ],
   "metadata": {
    "collapsed": false
   },
   "id": "d0e56516ea684380"
  },
  {
   "cell_type": "code",
   "outputs": [],
   "source": [],
   "metadata": {
    "collapsed": false
   },
   "id": "8dd11955cbf08a35"
  }
 ],
 "metadata": {
  "kernelspec": {
   "display_name": "Python 3",
   "language": "python",
   "name": "python3"
  },
  "language_info": {
   "codemirror_mode": {
    "name": "ipython",
    "version": 2
   },
   "file_extension": ".py",
   "mimetype": "text/x-python",
   "name": "python",
   "nbconvert_exporter": "python",
   "pygments_lexer": "ipython2",
   "version": "2.7.6"
  }
 },
 "nbformat": 4,
 "nbformat_minor": 5
}
