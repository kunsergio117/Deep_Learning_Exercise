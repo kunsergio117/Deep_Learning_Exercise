{
 "cells": [
  {
   "cell_type": "code",
   "execution_count": 1,
   "metadata": {},
   "outputs": [],
   "source": [
    "import re"
   ]
  },
  {
   "cell_type": "code",
   "execution_count": 2,
   "metadata": {},
   "outputs": [
    {
     "data": {
      "text/plain": [
       "\"Europe's biggest airline Ryanair grounded 420 of its flights across Europe as the 24-hour strike affected connections from airports around the continent. Rival budget carrier EasyJet was warning of severe delays and disruption.\""
      ]
     },
     "execution_count": 2,
     "metadata": {},
     "output_type": "execute_result"
    }
   ],
   "source": [
    "news_article1 = \"Europe's biggest airline Ryanair grounded 420 of its flights across Europe as the 24-hour strike affected connections from airports around the continent. Rival budget carrier EasyJet was warning of severe delays and disruption.\"\n",
    "news_article1"
   ]
  },
  {
   "cell_type": "markdown",
   "metadata": {},
   "source": [
    "### `search(pattern, string, flags)`\n",
    "returns a match object for the first location where the `pattern` matches anywhere in `string` or None"
   ]
  },
  {
   "cell_type": "code",
   "execution_count": 3,
   "metadata": {
    "scrolled": true
   },
   "outputs": [
    {
     "data": {
      "text/plain": [
       "<re.Match object; span=(17, 24), match='airline'>"
      ]
     },
     "execution_count": 3,
     "metadata": {},
     "output_type": "execute_result"
    }
   ],
   "source": [
    "check1 = re.search(\"airline\", news_article1)\n",
    "check1"
   ]
  },
  {
   "cell_type": "code",
   "execution_count": 4,
   "metadata": {},
   "outputs": [],
   "source": [
    "check2 = re.search(\"singapore\", news_article1)\n",
    "check2"
   ]
  },
  {
   "cell_type": "code",
   "execution_count": 5,
   "metadata": {},
   "outputs": [
    {
     "data": {
      "text/plain": [
       "(17, 24)"
      ]
     },
     "execution_count": 5,
     "metadata": {},
     "output_type": "execute_result"
    }
   ],
   "source": [
    "check1.span()"
   ]
  },
  {
   "cell_type": "code",
   "execution_count": 6,
   "metadata": {},
   "outputs": [],
   "source": [
    "check3 = re.search(\"europe\", news_article1)\n",
    "check3"
   ]
  },
  {
   "cell_type": "code",
   "execution_count": 7,
   "metadata": {},
   "outputs": [
    {
     "data": {
      "text/plain": [
       "<re.Match object; span=(0, 6), match='Europe'>"
      ]
     },
     "execution_count": 7,
     "metadata": {},
     "output_type": "execute_result"
    }
   ],
   "source": [
    "check3 = re.search(\"Europe\", news_article1)\n",
    "check3"
   ]
  },
  {
   "cell_type": "code",
   "execution_count": 8,
   "metadata": {},
   "outputs": [
    {
     "data": {
      "text/plain": [
       "(0, 6)"
      ]
     },
     "execution_count": 8,
     "metadata": {},
     "output_type": "execute_result"
    }
   ],
   "source": [
    "span3 = check3.span()\n",
    "span3"
   ]
  },
  {
   "cell_type": "code",
   "execution_count": 9,
   "metadata": {},
   "outputs": [
    {
     "name": "stdout",
     "output_type": "stream",
     "text": [
      "From Index: 0 \n",
      "To Index: 6\n"
     ]
    }
   ],
   "source": [
    "start_index3 = span3[0]\n",
    "end_index3 = span3[1]\n",
    "print(\"From Index:\", start_index3, \"\\nTo Index:\", end_index3)"
   ]
  },
  {
   "cell_type": "code",
   "execution_count": 10,
   "metadata": {},
   "outputs": [
    {
     "data": {
      "text/plain": [
       "<re.Match object; span=(42, 45), match='420'>"
      ]
     },
     "execution_count": 10,
     "metadata": {},
     "output_type": "execute_result"
    }
   ],
   "source": [
    "first_number_match = re.search(\"\\d+\", news_article1)\n",
    "first_number_match"
   ]
  },
  {
   "cell_type": "code",
   "execution_count": 11,
   "metadata": {},
   "outputs": [
    {
     "data": {
      "text/plain": [
       "(42, 45)"
      ]
     },
     "execution_count": 11,
     "metadata": {},
     "output_type": "execute_result"
    }
   ],
   "source": [
    "first_number_match.span()"
   ]
  },
  {
   "cell_type": "code",
   "execution_count": 12,
   "metadata": {},
   "outputs": [
    {
     "data": {
      "text/plain": [
       "42"
      ]
     },
     "execution_count": 12,
     "metadata": {},
     "output_type": "execute_result"
    }
   ],
   "source": [
    "#starting index\n",
    "first_number_match.span()[0]"
   ]
  },
  {
   "cell_type": "code",
   "execution_count": 13,
   "metadata": {},
   "outputs": [
    {
     "data": {
      "text/plain": [
       "45"
      ]
     },
     "execution_count": 13,
     "metadata": {},
     "output_type": "execute_result"
    }
   ],
   "source": [
    "#ending index\n",
    "first_number_match.span()[1]"
   ]
  },
  {
   "cell_type": "code",
   "execution_count": 14,
   "metadata": {},
   "outputs": [
    {
     "data": {
      "text/plain": [
       "'420'"
      ]
     },
     "execution_count": 14,
     "metadata": {},
     "output_type": "execute_result"
    }
   ],
   "source": [
    "news_article1[42:45]"
   ]
  },
  {
   "cell_type": "code",
   "execution_count": 15,
   "metadata": {},
   "outputs": [
    {
     "data": {
      "text/plain": [
       "'420'"
      ]
     },
     "execution_count": 15,
     "metadata": {},
     "output_type": "execute_result"
    }
   ],
   "source": [
    "news_article1[first_number_match.span()[0]:first_number_match.span()[1]]"
   ]
  },
  {
   "cell_type": "code",
   "execution_count": 16,
   "metadata": {},
   "outputs": [
    {
     "data": {
      "text/plain": [
       "'420'"
      ]
     },
     "execution_count": 16,
     "metadata": {},
     "output_type": "execute_result"
    }
   ],
   "source": [
    "first_number_match_span = first_number_match.span()\n",
    "first_number = news_article1[first_number_match_span[0]: first_number_match_span[1]]\n",
    "first_number"
   ]
  },
  {
   "cell_type": "markdown",
   "metadata": {},
   "source": [
    "Use `flags` to **ignore case** (`re.I`)"
   ]
  },
  {
   "cell_type": "code",
   "execution_count": 17,
   "metadata": {},
   "outputs": [],
   "source": [
    "re.search(\"europe\", news_article1)"
   ]
  },
  {
   "cell_type": "code",
   "execution_count": 18,
   "metadata": {},
   "outputs": [
    {
     "data": {
      "text/plain": [
       "<re.Match object; span=(0, 6), match='Europe'>"
      ]
     },
     "execution_count": 18,
     "metadata": {},
     "output_type": "execute_result"
    }
   ],
   "source": [
    "#re.I - case insensitive matching\n",
    "re.search(\"europe\", news_article1, re.I)"
   ]
  },
  {
   "cell_type": "markdown",
   "metadata": {},
   "source": [
    "### `match(pattern, string, flags)`\n",
    "same as `search()` except that only try to match from the beginning of the string. Returns match or None"
   ]
  },
  {
   "cell_type": "code",
   "execution_count": 19,
   "metadata": {},
   "outputs": [
    {
     "data": {
      "text/plain": [
       "<re.Match object; span=(0, 6), match='Europe'>"
      ]
     },
     "execution_count": 19,
     "metadata": {},
     "output_type": "execute_result"
    }
   ],
   "source": [
    "re.match(\"Europe\", news_article1)"
   ]
  },
  {
   "cell_type": "code",
   "execution_count": 20,
   "metadata": {},
   "outputs": [],
   "source": [
    "#no match\n",
    "re.match(\"\\d+\", news_article1)"
   ]
  },
  {
   "cell_type": "markdown",
   "metadata": {},
   "source": [
    "Can use `flags` to handle multiline"
   ]
  },
  {
   "cell_type": "code",
   "execution_count": 21,
   "metadata": {},
   "outputs": [
    {
     "name": "stdout",
     "output_type": "stream",
     "text": [
      "\n",
      "CNN — Hundreds of flights have been canceled and thousands of passengers forced to change plans as French air traffic controllers took industrial action over pay on Friday.\n",
      "\n",
      "Europe's biggest airline Ryanair grounded 420 of its flights across Europe as the 24-hour strike affected connections from airports around the continent. Rival budget carrier EasyJet was warning of severe delays and disruption.\n",
      "\n",
      "Members of France's Syndicat National des Contrôleurs du Trafic Aérien, or SNCTA, the main union for traffic controllers in the country, began striking from 6 a.m. central European time (00:00 a.m. ET) Friday. Knock-on disruptions are expected to carry on into Monday.\n",
      "\n",
      "The union said it was calling the action after negotiations stalled with the government over pay rises in line with inflation.\n",
      "\n",
      "\"After several months spent negotiating to get fair and adapted answers, SNCTA... laments the lack of concrete elements and guarantees from public authorities,\" it said in a statement.\n",
      "\n"
     ]
    }
   ],
   "source": [
    "new_article1_longer = \"\"\"\n",
    "CNN — Hundreds of flights have been canceled and thousands of passengers forced to change plans as French air traffic controllers took industrial action over pay on Friday.\n",
    "\n",
    "Europe's biggest airline Ryanair grounded 420 of its flights across Europe as the 24-hour strike affected connections from airports around the continent. Rival budget carrier EasyJet was warning of severe delays and disruption.\n",
    "\n",
    "Members of France's Syndicat National des Contrôleurs du Trafic Aérien, or SNCTA, the main union for traffic controllers in the country, began striking from 6 a.m. central European time (00:00 a.m. ET) Friday. Knock-on disruptions are expected to carry on into Monday.\n",
    "\n",
    "The union said it was calling the action after negotiations stalled with the government over pay rises in line with inflation.\n",
    "\n",
    "\"After several months spent negotiating to get fair and adapted answers, SNCTA... laments the lack of concrete elements and guarantees from public authorities,\" it said in a statement.\n",
    "\"\"\"\n",
    "print(new_article1_longer)"
   ]
  },
  {
   "cell_type": "markdown",
   "metadata": {},
   "source": [
    "### `findall(pattern, string, flags)`\n",
    "returns all non-overlapping matches of `pattern` as a list of strings or tuples"
   ]
  },
  {
   "cell_type": "code",
   "execution_count": 22,
   "metadata": {},
   "outputs": [
    {
     "data": {
      "text/plain": [
       "<re.Match object; span=(217, 220), match='420'>"
      ]
     },
     "execution_count": 22,
     "metadata": {},
     "output_type": "execute_result"
    }
   ],
   "source": [
    "re.search(\"\\d+\", new_article1_longer)"
   ]
  },
  {
   "cell_type": "code",
   "execution_count": 23,
   "metadata": {},
   "outputs": [
    {
     "data": {
      "text/plain": [
       "['420', '24', '6', '00', '00']"
      ]
     },
     "execution_count": 23,
     "metadata": {},
     "output_type": "execute_result"
    }
   ],
   "source": [
    "all_nums = re.findall(\"\\d+\", new_article1_longer)\n",
    "all_nums"
   ]
  },
  {
   "cell_type": "code",
   "execution_count": 24,
   "metadata": {},
   "outputs": [
    {
     "data": {
      "text/plain": [
       "\"Europe's biggest airline Ryanair grounded 420 of its flights across Europe as the 24-hour strike affected connections from airports around the continent. Rival budget carrier EasyJet was warning of severe delays and disruption.\""
      ]
     },
     "execution_count": 24,
     "metadata": {},
     "output_type": "execute_result"
    }
   ],
   "source": [
    "news_article1"
   ]
  },
  {
   "cell_type": "code",
   "execution_count": 25,
   "metadata": {},
   "outputs": [
    {
     "data": {
      "text/plain": [
       "['Europe']"
      ]
     },
     "execution_count": 25,
     "metadata": {},
     "output_type": "execute_result"
    }
   ],
   "source": [
    "#get the first word token (a-zA-Z0-9_) of the string\n",
    "re.findall(\"^\\w+\", news_article1)"
   ]
  },
  {
   "cell_type": "code",
   "execution_count": 26,
   "metadata": {},
   "outputs": [
    {
     "data": {
      "text/plain": [
       "'\\nCNN — Hundreds of flights have been canceled and thousands of passengers forced to change plans as French air traffic controllers took industrial action over pay on Friday.\\n\\nEurope\\'s biggest airline Ryanair grounded 420 of its flights across Europe as the 24-hour strike affected connections from airports around the continent. Rival budget carrier EasyJet was warning of severe delays and disruption.\\n\\nMembers of France\\'s Syndicat National des Contrôleurs du Trafic Aérien, or SNCTA, the main union for traffic controllers in the country, began striking from 6 a.m. central European time (00:00 a.m. ET) Friday. Knock-on disruptions are expected to carry on into Monday.\\n\\nThe union said it was calling the action after negotiations stalled with the government over pay rises in line with inflation.\\n\\n\"After several months spent negotiating to get fair and adapted answers, SNCTA... laments the lack of concrete elements and guarantees from public authorities,\" it said in a statement.\\n'"
      ]
     },
     "execution_count": 26,
     "metadata": {},
     "output_type": "execute_result"
    }
   ],
   "source": [
    "new_article1_longer"
   ]
  },
  {
   "cell_type": "code",
   "execution_count": 27,
   "metadata": {},
   "outputs": [
    {
     "data": {
      "text/plain": [
       "[]"
      ]
     },
     "execution_count": 27,
     "metadata": {},
     "output_type": "execute_result"
    }
   ],
   "source": [
    "re.findall(\"^\\w+\", new_article1_longer)"
   ]
  },
  {
   "cell_type": "code",
   "execution_count": 28,
   "metadata": {},
   "outputs": [
    {
     "data": {
      "text/plain": [
       "['CNN', 'Europe', 'Members', 'The']"
      ]
     },
     "execution_count": 28,
     "metadata": {},
     "output_type": "execute_result"
    }
   ],
   "source": [
    "#when dealing with multiline, we can use re.M to specify that we want ^ to match the start of each new line\n",
    "re.findall(\"^\\w+\", new_article1_longer, re.M)"
   ]
  },
  {
   "cell_type": "code",
   "execution_count": 29,
   "metadata": {},
   "outputs": [
    {
     "data": {
      "text/plain": [
       "['from airports', 'from 6', 'from public']"
      ]
     },
     "execution_count": 29,
     "metadata": {},
     "output_type": "execute_result"
    }
   ],
   "source": [
    "from_tokens = re.findall(\"from \\w+\", new_article1_longer)\n",
    "from_tokens"
   ]
  },
  {
   "cell_type": "code",
   "execution_count": 30,
   "metadata": {},
   "outputs": [
    {
     "data": {
      "text/plain": [
       "['airports', '6', 'public']"
      ]
     },
     "execution_count": 30,
     "metadata": {},
     "output_type": "execute_result"
    }
   ],
   "source": [
    "#when using capturing group, findall will return the contents in the capturing group\n",
    "from_tokens = re.findall(\"from (\\w+)\", new_article1_longer)\n",
    "from_tokens"
   ]
  },
  {
   "cell_type": "code",
   "execution_count": 31,
   "metadata": {},
   "outputs": [
    {
     "data": {
      "text/plain": [
       "[('Hundreds', 'flights'),\n",
       " ('thousands', 'passengers'),\n",
       " ('420', 'its'),\n",
       " ('warning', 'severe'),\n",
       " ('Members', 'France'),\n",
       " ('lack', 'concrete')]"
      ]
     },
     "execution_count": 31,
     "metadata": {},
     "output_type": "execute_result"
    }
   ],
   "source": [
    "#when you have multiple capturing group, findall() will combine multiple capturing group together\n",
    "x_of_y = re.findall(\"(\\w+) of (\\w+)\", new_article1_longer)\n",
    "x_of_y"
   ]
  },
  {
   "cell_type": "code",
   "execution_count": 32,
   "metadata": {},
   "outputs": [
    {
     "data": {
      "text/plain": [
       "['C',\n",
       " 'H',\n",
       " 'o',\n",
       " 'f',\n",
       " 'h',\n",
       " 'b',\n",
       " 'c',\n",
       " 'a',\n",
       " 't',\n",
       " 'o',\n",
       " 'p',\n",
       " 'f',\n",
       " 't',\n",
       " 'c',\n",
       " 'p',\n",
       " 'a',\n",
       " 'F',\n",
       " 'a',\n",
       " 't',\n",
       " 'c',\n",
       " 't',\n",
       " 'i',\n",
       " 'a',\n",
       " 'o',\n",
       " 'p',\n",
       " 'o',\n",
       " 'F',\n",
       " 'E',\n",
       " 's',\n",
       " 'b',\n",
       " 'a',\n",
       " 'R',\n",
       " 'g',\n",
       " '4',\n",
       " 'o',\n",
       " 'i',\n",
       " 'f',\n",
       " 'a',\n",
       " 'E',\n",
       " 'a',\n",
       " 't',\n",
       " '2',\n",
       " 'h',\n",
       " 's',\n",
       " 'a',\n",
       " 'c',\n",
       " 'f',\n",
       " 'a',\n",
       " 'a',\n",
       " 't',\n",
       " 'c',\n",
       " 'R',\n",
       " 'b',\n",
       " 'c',\n",
       " 'E',\n",
       " 'w',\n",
       " 'w',\n",
       " 'o',\n",
       " 's',\n",
       " 'd',\n",
       " 'a',\n",
       " 'd',\n",
       " 'M',\n",
       " 'o',\n",
       " 'F',\n",
       " 's',\n",
       " 'S',\n",
       " 'N',\n",
       " 'd',\n",
       " 'C',\n",
       " 'd',\n",
       " 'T',\n",
       " 'A',\n",
       " 'o',\n",
       " 'S',\n",
       " 't',\n",
       " 'm',\n",
       " 'u',\n",
       " 'f',\n",
       " 't',\n",
       " 'c',\n",
       " 'i',\n",
       " 't',\n",
       " 'c',\n",
       " 'b',\n",
       " 's',\n",
       " 'f',\n",
       " '6',\n",
       " 'a',\n",
       " 'm',\n",
       " 'c',\n",
       " 'E',\n",
       " 't',\n",
       " '0',\n",
       " '0',\n",
       " 'a',\n",
       " 'm',\n",
       " 'E',\n",
       " 'F',\n",
       " 'K',\n",
       " 'o',\n",
       " 'd',\n",
       " 'a',\n",
       " 'e',\n",
       " 't',\n",
       " 'c',\n",
       " 'o',\n",
       " 'i',\n",
       " 'M',\n",
       " 'T',\n",
       " 'u',\n",
       " 's',\n",
       " 'i',\n",
       " 'w',\n",
       " 'c',\n",
       " 't',\n",
       " 'a',\n",
       " 'a',\n",
       " 'n',\n",
       " 's',\n",
       " 'w',\n",
       " 't',\n",
       " 'g',\n",
       " 'o',\n",
       " 'p',\n",
       " 'r',\n",
       " 'i',\n",
       " 'l',\n",
       " 'w',\n",
       " 'i',\n",
       " 'A',\n",
       " 's',\n",
       " 'm',\n",
       " 's',\n",
       " 'n',\n",
       " 't',\n",
       " 'g',\n",
       " 'f',\n",
       " 'a',\n",
       " 'a',\n",
       " 'a',\n",
       " 'S',\n",
       " 'l',\n",
       " 't',\n",
       " 'l',\n",
       " 'o',\n",
       " 'c',\n",
       " 'e',\n",
       " 'a',\n",
       " 'g',\n",
       " 'f',\n",
       " 'p',\n",
       " 'a',\n",
       " 'i',\n",
       " 's',\n",
       " 'i',\n",
       " 'a',\n",
       " 's']"
      ]
     },
     "execution_count": 32,
     "metadata": {},
     "output_type": "execute_result"
    }
   ],
   "source": [
    "#find the first letter of every word\n",
    "#need to use raw string (since \\b refers to backspace)\n",
    "first_letters = re.findall(r\"\\b(\\w)\", new_article1_longer)\n",
    "first_letters"
   ]
  },
  {
   "cell_type": "code",
   "execution_count": 33,
   "metadata": {},
   "outputs": [
    {
     "data": {
      "text/plain": [
       "['N',\n",
       " 's',\n",
       " 'f',\n",
       " 's',\n",
       " 'e',\n",
       " 'n',\n",
       " 'd',\n",
       " 'd',\n",
       " 's',\n",
       " 'f',\n",
       " 's',\n",
       " 'd',\n",
       " 'o',\n",
       " 'e',\n",
       " 's',\n",
       " 's',\n",
       " 'h',\n",
       " 'r',\n",
       " 'c',\n",
       " 's',\n",
       " 'k',\n",
       " 'l',\n",
       " 'n',\n",
       " 'r',\n",
       " 'y',\n",
       " 'n',\n",
       " 'y',\n",
       " 'e',\n",
       " 's',\n",
       " 't',\n",
       " 'e',\n",
       " 'r',\n",
       " 'd',\n",
       " '0',\n",
       " 'f',\n",
       " 's',\n",
       " 's',\n",
       " 's',\n",
       " 'e',\n",
       " 's',\n",
       " 'e',\n",
       " '4',\n",
       " 'r',\n",
       " 'e',\n",
       " 'd',\n",
       " 's',\n",
       " 'm',\n",
       " 's',\n",
       " 'd',\n",
       " 'e',\n",
       " 't',\n",
       " 'l',\n",
       " 't',\n",
       " 'r',\n",
       " 't',\n",
       " 's',\n",
       " 'g',\n",
       " 'f',\n",
       " 'e',\n",
       " 's',\n",
       " 'd',\n",
       " 'n',\n",
       " 's',\n",
       " 'f',\n",
       " 'e',\n",
       " 's',\n",
       " 't',\n",
       " 'l',\n",
       " 's',\n",
       " 's',\n",
       " 'u',\n",
       " 'c',\n",
       " 'n',\n",
       " 'r',\n",
       " 'A',\n",
       " 'e',\n",
       " 'n',\n",
       " 'n',\n",
       " 'r',\n",
       " 'c',\n",
       " 's',\n",
       " 'n',\n",
       " 'e',\n",
       " 'y',\n",
       " 'n',\n",
       " 'g',\n",
       " 'm',\n",
       " '6',\n",
       " 'a',\n",
       " 'm',\n",
       " 'l',\n",
       " 'n',\n",
       " 'e',\n",
       " '0',\n",
       " '0',\n",
       " 'a',\n",
       " 'm',\n",
       " 'T',\n",
       " 'y',\n",
       " 'k',\n",
       " 'n',\n",
       " 's',\n",
       " 'e',\n",
       " 'd',\n",
       " 'o',\n",
       " 'y',\n",
       " 'n',\n",
       " 'o',\n",
       " 'y',\n",
       " 'e',\n",
       " 'n',\n",
       " 'd',\n",
       " 't',\n",
       " 's',\n",
       " 'g',\n",
       " 'e',\n",
       " 'n',\n",
       " 'r',\n",
       " 's',\n",
       " 'd',\n",
       " 'h',\n",
       " 'e',\n",
       " 't',\n",
       " 'r',\n",
       " 'y',\n",
       " 's',\n",
       " 'n',\n",
       " 'e',\n",
       " 'h',\n",
       " 'n',\n",
       " 'r',\n",
       " 'l',\n",
       " 's',\n",
       " 't',\n",
       " 'g',\n",
       " 'o',\n",
       " 't',\n",
       " 'r',\n",
       " 'd',\n",
       " 'd',\n",
       " 's',\n",
       " 'A',\n",
       " 's',\n",
       " 'e',\n",
       " 'k',\n",
       " 'f',\n",
       " 'e',\n",
       " 's',\n",
       " 'd',\n",
       " 's',\n",
       " 'm',\n",
       " 'c',\n",
       " 's',\n",
       " 't',\n",
       " 'd',\n",
       " 'n',\n",
       " 'a',\n",
       " 't']"
      ]
     },
     "execution_count": 33,
     "metadata": {},
     "output_type": "execute_result"
    }
   ],
   "source": [
    "#find the last letter of every word\n",
    "last_letters = re.findall(r\"(\\w)\\b\", new_article1_longer)\n",
    "last_letters"
   ]
  },
  {
   "cell_type": "code",
   "execution_count": 34,
   "metadata": {},
   "outputs": [
    {
     "data": {
      "text/plain": [
       "'<html><body> <ul><li>johndoe@gmail.com</li><li>janedoe@gmail.com</li><li>Robin</li></ul></body></html>'"
      ]
     },
     "execution_count": 34,
     "metadata": {},
     "output_type": "execute_result"
    }
   ],
   "source": [
    "html_source = \"<html><body> <ul><li>johndoe@gmail.com</li><li>janedoe@gmail.com</li><li>Robin</li></ul></body></html>\"\n",
    "html_source"
   ]
  },
  {
   "cell_type": "code",
   "execution_count": 35,
   "metadata": {},
   "outputs": [
    {
     "data": {
      "text/plain": [
       "['johndoe@gmail.com', 'janedoe@gmail.com', 'Robin']"
      ]
     },
     "execution_count": 35,
     "metadata": {},
     "output_type": "execute_result"
    }
   ],
   "source": [
    "list_item_values = re.findall(\"<li>(.*?)</li>\", html_source)\n",
    "list_item_values"
   ]
  },
  {
   "cell_type": "markdown",
   "metadata": {},
   "source": [
    "#### ❓Exercise 1. Change the above regex to match only email from `html_source`."
   ]
  },
  {
   "cell_type": "code",
   "execution_count": 36,
   "metadata": {},
   "outputs": [
    {
     "data": {
      "text/plain": [
       "[]"
      ]
     },
     "execution_count": 36,
     "metadata": {},
     "output_type": "execute_result"
    }
   ],
   "source": [
    "emails = re.findall(\"TO_FILL_UP\", html_source)\n",
    "emails"
   ]
  },
  {
   "cell_type": "code",
   "execution_count": 37,
   "metadata": {},
   "outputs": [
    {
     "data": {
      "text/plain": [
       "['johndoe@gmail.com', 'janedoe@gmail.com']"
      ]
     },
     "execution_count": 37,
     "metadata": {},
     "output_type": "execute_result"
    }
   ],
   "source": [
    "emails = re.findall(\"<li>(.*?@.*?)</li>\", html_source)\n",
    "emails"
   ]
  },
  {
   "cell_type": "markdown",
   "metadata": {},
   "source": [
    "### `finditer(pattern, string, flags)`\n",
    "if we need the match object from `findall()`, we can use `finditer() instead"
   ]
  },
  {
   "cell_type": "code",
   "execution_count": 38,
   "metadata": {},
   "outputs": [
    {
     "name": "stdout",
     "output_type": "stream",
     "text": [
      "<re.Match object; span=(293, 306), match='from airports'>\n",
      "from airports\n",
      "airports\n",
      "<re.Match object; span=(556, 562), match='from 6'>\n",
      "from 6\n",
      "6\n",
      "<re.Match object; span=(937, 948), match='from public'>\n",
      "from public\n",
      "public\n"
     ]
    }
   ],
   "source": [
    "#when using capturing group, findall will return the contents in the capturing group\n",
    "from_tokens_iter = re.finditer(\"from (\\w+)\", new_article1_longer)\n",
    "for t in from_tokens_iter:\n",
    "    print(t)\n",
    "    print(t.group()) #string that matches it\n",
    "    print(t.group(1)) #first capturing group content"
   ]
  },
  {
   "cell_type": "markdown",
   "metadata": {},
   "source": [
    "#### ❓Exercise 2. Write a regex to match all the time tokens in `new_article1_longer`."
   ]
  },
  {
   "cell_type": "code",
   "execution_count": 39,
   "metadata": {},
   "outputs": [
    {
     "data": {
      "text/plain": [
       "'\\nCNN — Hundreds of flights have been canceled and thousands of passengers forced to change plans as French air traffic controllers took industrial action over pay on Friday.\\n\\nEurope\\'s biggest airline Ryanair grounded 420 of its flights across Europe as the 24-hour strike affected connections from airports around the continent. Rival budget carrier EasyJet was warning of severe delays and disruption.\\n\\nMembers of France\\'s Syndicat National des Contrôleurs du Trafic Aérien, or SNCTA, the main union for traffic controllers in the country, began striking from 6 a.m. central European time (00:00 a.m. ET) Friday. Knock-on disruptions are expected to carry on into Monday.\\n\\nThe union said it was calling the action after negotiations stalled with the government over pay rises in line with inflation.\\n\\n\"After several months spent negotiating to get fair and adapted answers, SNCTA... laments the lack of concrete elements and guarantees from public authorities,\" it said in a statement.\\n'"
      ]
     },
     "execution_count": 39,
     "metadata": {},
     "output_type": "execute_result"
    }
   ],
   "source": [
    "new_article1_longer"
   ]
  },
  {
   "cell_type": "code",
   "execution_count": 40,
   "metadata": {},
   "outputs": [],
   "source": [
    "#need to match: \n",
    "#00:00 a.m.\n",
    "#6 a.m."
   ]
  },
  {
   "cell_type": "code",
   "execution_count": 41,
   "metadata": {},
   "outputs": [
    {
     "data": {
      "text/plain": [
       "['6 a.m.', '00:00 a.m.']"
      ]
     },
     "execution_count": 41,
     "metadata": {},
     "output_type": "execute_result"
    }
   ],
   "source": [
    "time_tokens = re.findall(\"\\d+.*?[ap]\\.m\\.\", new_article1_longer)\n",
    "time_tokens"
   ]
  },
  {
   "cell_type": "code",
   "execution_count": 42,
   "metadata": {},
   "outputs": [
    {
     "data": {
      "text/plain": [
       "['00:00 a.m.']"
      ]
     },
     "execution_count": 42,
     "metadata": {},
     "output_type": "execute_result"
    }
   ],
   "source": [
    "time_tokens = re.findall(\"\\d{1,2}:\\d{2} [ap]\\.m\\.\", new_article1_longer)\n",
    "time_tokens"
   ]
  },
  {
   "cell_type": "code",
   "execution_count": 43,
   "metadata": {},
   "outputs": [
    {
     "data": {
      "text/plain": [
       "['6::0 a.m.']"
      ]
     },
     "execution_count": 43,
     "metadata": {},
     "output_type": "execute_result"
    }
   ],
   "source": [
    "time_tokens = re.findall(\"\\d+.*?[ap]\\.m\\.\", \"6::0 a.m..\")\n",
    "time_tokens"
   ]
  },
  {
   "cell_type": "code",
   "execution_count": 44,
   "metadata": {},
   "outputs": [
    {
     "data": {
      "text/plain": [
       "[('23 a.m.', '')]"
      ]
     },
     "execution_count": 44,
     "metadata": {},
     "output_type": "execute_result"
    }
   ],
   "source": [
    "time_tokens = re.findall(\"(\\d{1,2}(:\\d{0,2})?\\s*?[ap]\\.m\\.)\", \"7123123 a.m.\")\n",
    "time_tokens"
   ]
  },
  {
   "cell_type": "code",
   "execution_count": 45,
   "metadata": {},
   "outputs": [
    {
     "data": {
      "text/plain": [
       "['00:00 a.m.']"
      ]
     },
     "execution_count": 45,
     "metadata": {},
     "output_type": "execute_result"
    }
   ],
   "source": [
    "#non-caputuring group\n",
    "time_tokens = re.findall(\"(\\d{1,2}(?::\\d{0,2})?\\s*?[ap]\\.m\\.)\", \"00:00 a.m.\")\n",
    "time_tokens"
   ]
  },
  {
   "cell_type": "code",
   "execution_count": 46,
   "metadata": {},
   "outputs": [
    {
     "data": {
      "text/plain": [
       "[]"
      ]
     },
     "execution_count": 46,
     "metadata": {},
     "output_type": "execute_result"
    }
   ],
   "source": [
    "time_tokens = re.findall(\"TO_FILL_UP\", new_article1_longer)\n",
    "time_tokens"
   ]
  },
  {
   "cell_type": "code",
   "execution_count": 47,
   "metadata": {},
   "outputs": [
    {
     "data": {
      "text/plain": [
       "[]"
      ]
     },
     "execution_count": 47,
     "metadata": {},
     "output_type": "execute_result"
    }
   ],
   "source": [
    "time_tokens = re.findall(\"TO_FILL_UP\", new_article1_longer)\n",
    "time_tokens"
   ]
  },
  {
   "cell_type": "markdown",
   "metadata": {},
   "source": [
    "### `sub(pattern, repl, string, flags)`\n",
    "returns a string obtained by replacing occurrence of the `pattern` in `string` by replacement `repl`"
   ]
  },
  {
   "cell_type": "code",
   "execution_count": 48,
   "metadata": {},
   "outputs": [
    {
     "data": {
      "text/plain": [
       "'\\nCNN — Hundreds of flights have been canceled and thousands of passengers forced to change plans as French air traffic controllers took industrial action over pay on Friday.\\n\\nPLACE\\'s biggest airline Ryanair grounded 420 of its flights across PLACE as the 24-hour strike affected connections from airports around the continent. Rival budget carrier EasyJet was warning of severe delays and disruption.\\n\\nMembers of PLACE\\'s Syndicat National des Contrôleurs du Trafic Aérien, or SNCTA, the main union for traffic controllers in the country, began striking from 6 a.m. central PLACEan time (00:00 a.m. ET) Friday. Knock-on disruptions are expected to carry on into Monday.\\n\\nThe union said it was calling the action after negotiations stalled with the government over pay rises in line with inflation.\\n\\n\"After several months spent negotiating to get fair and adapted answers, SNCTA... laments the lack of concrete elements and guarantees from public authorities,\" it said in a statement.\\n'"
      ]
     },
     "execution_count": 48,
     "metadata": {},
     "output_type": "execute_result"
    }
   ],
   "source": [
    "re.sub(\"[eE]urope|[eE]uropean|[fF]rance\", \"PLACE\", new_article1_longer)"
   ]
  },
  {
   "cell_type": "code",
   "execution_count": 49,
   "metadata": {},
   "outputs": [
    {
     "data": {
      "text/plain": [
       "'\\nCNN — Hundreds of flights have been canceled and thousands of passengers forced to change plans as French air traffic controllers took industrial action over pay on Friday.\\n\\nPLACE\\'s biggest airline Ryanair grounded 420 of its flights across PLACE as the 24-hour strike affected connections from airports around the continent. Rival budget carrier EasyJet was warning of severe delays and disruption.\\n\\nMembers of PLACE\\'s Syndicat National des Contrôleurs du Trafic Aérien, or SNCTA, the main union for traffic controllers in the country, began striking from 6 a.m. central PLACE time (00:00 a.m. ET) Friday. Knock-on disruptions are expected to carry on into Monday.\\n\\nThe union said it was calling the action after negotiations stalled with the government over pay rises in line with inflation.\\n\\n\"After several months spent negotiating to get fair and adapted answers, SNCTA... laments the lack of concrete elements and guarantees from public authorities,\" it said in a statement.\\n'"
      ]
     },
     "execution_count": 49,
     "metadata": {},
     "output_type": "execute_result"
    }
   ],
   "source": [
    "re.sub(\"[eE]uropean|[eE]urope|[fF]rance\", \"PLACE\", new_article1_longer)"
   ]
  },
  {
   "cell_type": "markdown",
   "metadata": {},
   "source": [
    "#### ❓Exercise 3. Build a Regex Tokenizer by hand.\n",
    "*Hint: try use `re.split()` multiple times*"
   ]
  },
  {
   "cell_type": "code",
   "execution_count": 50,
   "metadata": {},
   "outputs": [
    {
     "data": {
      "text/plain": [
       "['hello', 'world']"
      ]
     },
     "execution_count": 50,
     "metadata": {},
     "output_type": "execute_result"
    }
   ],
   "source": [
    "re.split(\"\\s\", \"hello world\")"
   ]
  },
  {
   "cell_type": "code",
   "execution_count": 51,
   "metadata": {},
   "outputs": [
    {
     "data": {
      "text/plain": [
       "['hello', 'world']"
      ]
     },
     "execution_count": 51,
     "metadata": {},
     "output_type": "execute_result"
    }
   ],
   "source": [
    "re.split(\"#\", \"hello#world\")"
   ]
  },
  {
   "cell_type": "code",
   "execution_count": 52,
   "metadata": {},
   "outputs": [
    {
     "data": {
      "text/plain": [
       "['',\n",
       " 'CNN',\n",
       " '—',\n",
       " 'Hundreds',\n",
       " 'of',\n",
       " 'flights',\n",
       " 'have',\n",
       " 'been',\n",
       " 'canceled',\n",
       " 'and',\n",
       " 'thousands',\n",
       " 'of',\n",
       " 'passengers',\n",
       " 'forced',\n",
       " 'to',\n",
       " 'change',\n",
       " 'plans',\n",
       " 'as',\n",
       " 'French',\n",
       " 'air',\n",
       " 'traffic',\n",
       " 'controllers',\n",
       " 'took',\n",
       " 'industrial',\n",
       " 'action',\n",
       " 'over',\n",
       " 'pay',\n",
       " 'on',\n",
       " 'Friday.',\n",
       " '',\n",
       " \"Europe's\",\n",
       " 'biggest',\n",
       " 'airline',\n",
       " 'Ryanair',\n",
       " 'grounded',\n",
       " '420',\n",
       " 'of',\n",
       " 'its',\n",
       " 'flights',\n",
       " 'across',\n",
       " 'Europe',\n",
       " 'as',\n",
       " 'the',\n",
       " '24-hour',\n",
       " 'strike',\n",
       " 'affected',\n",
       " 'connections',\n",
       " 'from',\n",
       " 'airports',\n",
       " 'around',\n",
       " 'the',\n",
       " 'continent.',\n",
       " 'Rival',\n",
       " 'budget',\n",
       " 'carrier',\n",
       " 'EasyJet',\n",
       " 'was',\n",
       " 'warning',\n",
       " 'of',\n",
       " 'severe',\n",
       " 'delays',\n",
       " 'and',\n",
       " 'disruption.',\n",
       " '',\n",
       " 'Members',\n",
       " 'of',\n",
       " \"France's\",\n",
       " 'Syndicat',\n",
       " 'National',\n",
       " 'des',\n",
       " 'Contrôleurs',\n",
       " 'du',\n",
       " 'Trafic',\n",
       " 'Aérien,',\n",
       " 'or',\n",
       " 'SNCTA,',\n",
       " 'the',\n",
       " 'main',\n",
       " 'union',\n",
       " 'for',\n",
       " 'traffic',\n",
       " 'controllers',\n",
       " 'in',\n",
       " 'the',\n",
       " 'country,',\n",
       " 'began',\n",
       " 'striking',\n",
       " 'from',\n",
       " '6',\n",
       " 'a.m.',\n",
       " 'central',\n",
       " 'European',\n",
       " 'time',\n",
       " '(00:00',\n",
       " 'a.m.',\n",
       " 'ET)',\n",
       " 'Friday.',\n",
       " 'Knock-on',\n",
       " 'disruptions',\n",
       " 'are',\n",
       " 'expected',\n",
       " 'to',\n",
       " 'carry',\n",
       " 'on',\n",
       " 'into',\n",
       " 'Monday.',\n",
       " '',\n",
       " 'The',\n",
       " 'union',\n",
       " 'said',\n",
       " 'it',\n",
       " 'was',\n",
       " 'calling',\n",
       " 'the',\n",
       " 'action',\n",
       " 'after',\n",
       " 'negotiations',\n",
       " 'stalled',\n",
       " 'with',\n",
       " 'the',\n",
       " 'government',\n",
       " 'over',\n",
       " 'pay',\n",
       " 'rises',\n",
       " 'in',\n",
       " 'line',\n",
       " 'with',\n",
       " 'inflation.',\n",
       " '',\n",
       " '\"After',\n",
       " 'several',\n",
       " 'months',\n",
       " 'spent',\n",
       " 'negotiating',\n",
       " 'to',\n",
       " 'get',\n",
       " 'fair',\n",
       " 'and',\n",
       " 'adapted',\n",
       " 'answers,',\n",
       " 'SNCTA...',\n",
       " 'laments',\n",
       " 'the',\n",
       " 'lack',\n",
       " 'of',\n",
       " 'concrete',\n",
       " 'elements',\n",
       " 'and',\n",
       " 'guarantees',\n",
       " 'from',\n",
       " 'public',\n",
       " 'authorities,\"',\n",
       " 'it',\n",
       " 'said',\n",
       " 'in',\n",
       " 'a',\n",
       " 'statement.',\n",
       " '']"
      ]
     },
     "execution_count": 52,
     "metadata": {},
     "output_type": "execute_result"
    }
   ],
   "source": [
    "re.split(\"\\s\", new_article1_longer)"
   ]
  },
  {
   "cell_type": "code",
   "execution_count": 53,
   "metadata": {},
   "outputs": [
    {
     "data": {
      "text/plain": [
       "['hello', 'world']"
      ]
     },
     "execution_count": 53,
     "metadata": {},
     "output_type": "execute_result"
    }
   ],
   "source": [
    "re.split(\"#\", \"hello#world\")"
   ]
  },
  {
   "cell_type": "code",
   "execution_count": 54,
   "metadata": {},
   "outputs": [
    {
     "data": {
      "text/plain": [
       "['',\n",
       " 'CNN',\n",
       " '—',\n",
       " 'Hundreds',\n",
       " 'of',\n",
       " 'flights',\n",
       " 'have',\n",
       " 'been',\n",
       " 'canceled',\n",
       " 'and',\n",
       " 'thousands',\n",
       " 'of',\n",
       " 'passengers',\n",
       " 'forced',\n",
       " 'to',\n",
       " 'change',\n",
       " 'plans',\n",
       " 'as',\n",
       " 'French',\n",
       " 'air',\n",
       " 'traffic',\n",
       " 'controllers',\n",
       " 'took',\n",
       " 'industrial',\n",
       " 'action',\n",
       " 'over',\n",
       " 'pay',\n",
       " 'on',\n",
       " 'Friday.',\n",
       " '',\n",
       " \"Europe's\",\n",
       " 'biggest',\n",
       " 'airline',\n",
       " 'Ryanair',\n",
       " 'grounded',\n",
       " '420',\n",
       " 'of',\n",
       " 'its',\n",
       " 'flights',\n",
       " 'across',\n",
       " 'Europe',\n",
       " 'as',\n",
       " 'the',\n",
       " '24-hour',\n",
       " 'strike',\n",
       " 'affected',\n",
       " 'connections',\n",
       " 'from',\n",
       " 'airports',\n",
       " 'around',\n",
       " 'the',\n",
       " 'continent.',\n",
       " 'Rival',\n",
       " 'budget',\n",
       " 'carrier',\n",
       " 'EasyJet',\n",
       " 'was',\n",
       " 'warning',\n",
       " 'of',\n",
       " 'severe',\n",
       " 'delays',\n",
       " 'and',\n",
       " 'disruption.',\n",
       " '',\n",
       " 'Members',\n",
       " 'of',\n",
       " \"France's\",\n",
       " 'Syndicat',\n",
       " 'National',\n",
       " 'des',\n",
       " 'Contrôleurs',\n",
       " 'du',\n",
       " 'Trafic',\n",
       " 'Aérien,',\n",
       " 'or',\n",
       " 'SNCTA,',\n",
       " 'the',\n",
       " 'main',\n",
       " 'union',\n",
       " 'for',\n",
       " 'traffic',\n",
       " 'controllers',\n",
       " 'in',\n",
       " 'the',\n",
       " 'country,',\n",
       " 'began',\n",
       " 'striking',\n",
       " 'from',\n",
       " '6',\n",
       " 'a.m.',\n",
       " 'central',\n",
       " 'European',\n",
       " 'time',\n",
       " '(00:00',\n",
       " 'a.m.',\n",
       " 'ET)',\n",
       " 'Friday.',\n",
       " 'Knock-on',\n",
       " 'disruptions',\n",
       " 'are',\n",
       " 'expected',\n",
       " 'to',\n",
       " 'carry',\n",
       " 'on',\n",
       " 'into',\n",
       " 'Monday.',\n",
       " '',\n",
       " 'The',\n",
       " 'union',\n",
       " 'said',\n",
       " 'it',\n",
       " 'was',\n",
       " 'calling',\n",
       " 'the',\n",
       " 'action',\n",
       " 'after',\n",
       " 'negotiations',\n",
       " 'stalled',\n",
       " 'with',\n",
       " 'the',\n",
       " 'government',\n",
       " 'over',\n",
       " 'pay',\n",
       " 'rises',\n",
       " 'in',\n",
       " 'line',\n",
       " 'with',\n",
       " 'inflation.',\n",
       " '',\n",
       " '\"After',\n",
       " 'several',\n",
       " 'months',\n",
       " 'spent',\n",
       " 'negotiating',\n",
       " 'to',\n",
       " 'get',\n",
       " 'fair',\n",
       " 'and',\n",
       " 'adapted',\n",
       " 'answers,',\n",
       " 'SNCTA...',\n",
       " 'laments',\n",
       " 'the',\n",
       " 'lack',\n",
       " 'of',\n",
       " 'concrete',\n",
       " 'elements',\n",
       " 'and',\n",
       " 'guarantees',\n",
       " 'from',\n",
       " 'public',\n",
       " 'authorities,\"',\n",
       " 'it',\n",
       " 'said',\n",
       " 'in',\n",
       " 'a',\n",
       " 'statement.',\n",
       " '']"
      ]
     },
     "execution_count": 54,
     "metadata": {},
     "output_type": "execute_result"
    }
   ],
   "source": [
    "re.split(\"\\s\", new_article1_longer)"
   ]
  },
  {
   "cell_type": "code",
   "execution_count": 55,
   "metadata": {},
   "outputs": [
    {
     "data": {
      "text/plain": [
       "['hello', ',', 'world', '.', 'a', ',', 'b']"
      ]
     },
     "execution_count": 55,
     "metadata": {},
     "output_type": "execute_result"
    }
   ],
   "source": [
    "re.split(\"(,|!|\\.)\", \"hello,world.a,b\")"
   ]
  },
  {
   "cell_type": "code",
   "execution_count": 56,
   "metadata": {},
   "outputs": [],
   "source": [
    "def regex_tokenize(s):\n",
    "    #list to store the tokens\n",
    "    final_tokens = []\n",
    "    \n",
    "    #TODO: first split by space\n",
    "    tokens = re.split(\"\\s\", s)\n",
    "    for t in tokens:\n",
    "        #then split by these cases:\n",
    "        #(\n",
    "        #)\n",
    "        #'s\n",
    "        #,\n",
    "        #.. (with 2 or more periods)\n",
    "        #\"\n",
    "        tokens1 = re.split(\"(\\(|\\)|'s|,|\\.{2,}|\\\")\", t)\n",
    "        \n",
    "        for t1 in tokens1:\n",
    "            if t1 != \"\":\n",
    "                #check whether token ends with .\n",
    "                #i.e. the last word of the sentence\n",
    "                if re.search(\"\\w\\w+\\.$\", t1):\n",
    "                    #case where this is the last word\n",
    "                    final_tokens.append(t1[0:len(t1) -1])\n",
    "                    final_tokens.append(\".\")\n",
    "                else:\n",
    "                    final_tokens.append(t1)\n",
    "    \n",
    "    return final_tokens"
   ]
  },
  {
   "cell_type": "code",
   "execution_count": 57,
   "metadata": {},
   "outputs": [
    {
     "data": {
      "text/plain": [
       "['CNN',\n",
       " '—',\n",
       " 'Hundreds',\n",
       " 'of',\n",
       " 'flights',\n",
       " 'have',\n",
       " 'been',\n",
       " 'canceled',\n",
       " 'and',\n",
       " 'thousands',\n",
       " 'of',\n",
       " 'passengers',\n",
       " 'forced',\n",
       " 'to',\n",
       " 'change',\n",
       " 'plans',\n",
       " 'as',\n",
       " 'French',\n",
       " 'air',\n",
       " 'traffic',\n",
       " 'controllers',\n",
       " 'took',\n",
       " 'industrial',\n",
       " 'action',\n",
       " 'over',\n",
       " 'pay',\n",
       " 'on',\n",
       " 'Friday',\n",
       " '.',\n",
       " 'Europe',\n",
       " \"'s\",\n",
       " 'biggest',\n",
       " 'airline',\n",
       " 'Ryanair',\n",
       " 'grounded',\n",
       " '420',\n",
       " 'of',\n",
       " 'its',\n",
       " 'flights',\n",
       " 'across',\n",
       " 'Europe',\n",
       " 'as',\n",
       " 'the',\n",
       " '24-hour',\n",
       " 'strike',\n",
       " 'affected',\n",
       " 'connections',\n",
       " 'from',\n",
       " 'airports',\n",
       " 'around',\n",
       " 'the',\n",
       " 'continent',\n",
       " '.',\n",
       " 'Rival',\n",
       " 'budget',\n",
       " 'carrier',\n",
       " 'EasyJet',\n",
       " 'was',\n",
       " 'warning',\n",
       " 'of',\n",
       " 'severe',\n",
       " 'delays',\n",
       " 'and',\n",
       " 'disruption',\n",
       " '.',\n",
       " 'Members',\n",
       " 'of',\n",
       " 'France',\n",
       " \"'s\",\n",
       " 'Syndicat',\n",
       " 'National',\n",
       " 'des',\n",
       " 'Contrôleurs',\n",
       " 'du',\n",
       " 'Trafic',\n",
       " 'Aérien',\n",
       " ',',\n",
       " 'or',\n",
       " 'SNCTA',\n",
       " ',',\n",
       " 'the',\n",
       " 'main',\n",
       " 'union',\n",
       " 'for',\n",
       " 'traffic',\n",
       " 'controllers',\n",
       " 'in',\n",
       " 'the',\n",
       " 'country',\n",
       " ',',\n",
       " 'began',\n",
       " 'striking',\n",
       " 'from',\n",
       " '6',\n",
       " 'a.m.',\n",
       " 'central',\n",
       " 'European',\n",
       " 'time',\n",
       " '(',\n",
       " '00:00',\n",
       " 'a.m.',\n",
       " 'ET',\n",
       " ')',\n",
       " 'Friday',\n",
       " '.',\n",
       " 'Knock-on',\n",
       " 'disruptions',\n",
       " 'are',\n",
       " 'expected',\n",
       " 'to',\n",
       " 'carry',\n",
       " 'on',\n",
       " 'into',\n",
       " 'Monday',\n",
       " '.',\n",
       " 'The',\n",
       " 'union',\n",
       " 'said',\n",
       " 'it',\n",
       " 'was',\n",
       " 'calling',\n",
       " 'the',\n",
       " 'action',\n",
       " 'after',\n",
       " 'negotiations',\n",
       " 'stalled',\n",
       " 'with',\n",
       " 'the',\n",
       " 'government',\n",
       " 'over',\n",
       " 'pay',\n",
       " 'rises',\n",
       " 'in',\n",
       " 'line',\n",
       " 'with',\n",
       " 'inflation',\n",
       " '.',\n",
       " '\"',\n",
       " 'After',\n",
       " 'several',\n",
       " 'months',\n",
       " 'spent',\n",
       " 'negotiating',\n",
       " 'to',\n",
       " 'get',\n",
       " 'fair',\n",
       " 'and',\n",
       " 'adapted',\n",
       " 'answers',\n",
       " ',',\n",
       " 'SNCTA',\n",
       " '...',\n",
       " 'laments',\n",
       " 'the',\n",
       " 'lack',\n",
       " 'of',\n",
       " 'concrete',\n",
       " 'elements',\n",
       " 'and',\n",
       " 'guarantees',\n",
       " 'from',\n",
       " 'public',\n",
       " 'authorities',\n",
       " ',',\n",
       " '\"',\n",
       " 'it',\n",
       " 'said',\n",
       " 'in',\n",
       " 'a',\n",
       " 'statement',\n",
       " '.']"
      ]
     },
     "execution_count": 57,
     "metadata": {},
     "output_type": "execute_result"
    }
   ],
   "source": [
    "#it should look like this\n",
    "regex_tokenize(new_article1_longer)"
   ]
  },
  {
   "cell_type": "code",
   "execution_count": null,
   "metadata": {},
   "outputs": [],
   "source": []
  }
 ],
 "metadata": {
  "kernelspec": {
   "display_name": "Python 3",
   "language": "python",
   "name": "python3"
  },
  "language_info": {
   "codemirror_mode": {
    "name": "ipython",
    "version": 3
   },
   "file_extension": ".py",
   "mimetype": "text/x-python",
   "name": "python",
   "nbconvert_exporter": "python",
   "pygments_lexer": "ipython3",
   "version": "3.9.7"
  }
 },
 "nbformat": 4,
 "nbformat_minor": 4
}
