{
 "cells": [
  {
   "cell_type": "code",
   "execution_count": null,
   "metadata": {
    "colab": {
     "base_uri": "https://localhost:8080/"
    },
    "id": "twFLC1Pvwh7B",
    "executionInfo": {
     "status": "ok",
     "timestamp": 1687846056339,
     "user_tz": -480,
     "elapsed": 2442,
     "user": {
      "displayName": "Sergio Kun",
      "userId": "00471915761571772101"
     }
    },
    "outputId": "bc6f2653-2477-452f-efdc-390247a99ce6"
   },
   "outputs": [
    {
     "output_type": "stream",
     "name": "stdout",
     "text": [
      "keras:  2.12.0\n"
     ]
    }
   ],
   "source": [
    "from tensorflow import keras\n",
    "print('keras: ', keras.__version__)"
   ]
  },
  {
   "cell_type": "code",
   "source": [
    "# For Google Colaboratory\n",
    "import sys, os\n",
    "if 'google.colab' in sys.modules:\n",
    "    # mount google drive\n",
    "    from google.colab import drive\n",
    "    drive.mount('/content/gdrive')\n",
    "    path_to_file = '/content/gdrive/My Drive/Computer_Science_Files/NUS_courses/Deep_Learning/Lab' # Please adjust the path accordingly\n",
    "    os.chdir(path_to_file)\n",
    "    !pwd"
   ],
   "metadata": {
    "colab": {
     "base_uri": "https://localhost:8080/"
    },
    "id": "LNxqIf2txmFz",
    "executionInfo": {
     "status": "ok",
     "timestamp": 1687846080287,
     "user_tz": -480,
     "elapsed": 23951,
     "user": {
      "displayName": "Sergio Kun",
      "userId": "00471915761571772101"
     }
    },
    "outputId": "3f988158-51f0-4eff-d736-a4c31d717525"
   },
   "execution_count": null,
   "outputs": [
    {
     "output_type": "stream",
     "name": "stdout",
     "text": [
      "Mounted at /content/gdrive\n",
      "/content/gdrive/My Drive/Computer_Science_Files/NUS_courses/Deep_Learning/Lab\n"
     ]
    }
   ]
  },
  {
   "cell_type": "code",
   "source": [
    "#only need to run it once to unzip the image file\n",
    "# uncomment and run once\n",
    "# !unzip -qq cats_and_dogs_small.zip"
   ],
   "metadata": {
    "id": "aZcCRAaeLBy6",
    "colab": {
     "base_uri": "https://localhost:8080/"
    },
    "executionInfo": {
     "status": "ok",
     "timestamp": 1687836163254,
     "user_tz": -480,
     "elapsed": 42423,
     "user": {
      "displayName": "Sergio Kun",
      "userId": "00471915761571772101"
     }
    },
    "outputId": "eabe7f92-e043-4027-cd9f-aed88f7c0676"
   },
   "execution_count": null,
   "outputs": [
    {
     "output_type": "stream",
     "name": "stdout",
     "text": [
      "replace cats_and_dogs_small/test/cats/cat.1501.jpg? [y]es, [n]o, [A]ll, [N]one, [r]ename: y\n",
      "error:  cannot create cats_and_dogs_small/test/cats/cat.1501.jpg\n",
      "        No such file or directory\n"
     ]
    }
   ]
  },
  {
   "cell_type": "markdown",
   "metadata": {
    "id": "FkmHQN5fwh7D"
   },
   "source": [
    "## Objectives\n",
    "After completing this practical exercise, students should be able to:\n",
    "1. [Training a convnet from scratch on a small dataset](#demo)\n",
    "2. [Exercise- tuning several model parameters](#exc)"
   ]
  },
  {
   "cell_type": "markdown",
   "metadata": {
    "id": "pMetLCiNwh7D"
   },
   "source": [
    "## 1. Training a convnet from scratch on a small dataset <a id='demo' />\n",
    "\n",
    "In this practical example, we will focus on classifying images as \"dogs\" or \"cats\". We will start by naively training a small convnet on our training samples, without any regularization, to set a baseline for what can be achieved. This will get us to a classification accuracy of around 80%. At that point, our main issue will be overfitting. Then we will introduce *data augmentation*, a powerful technique for mitigating overfitting in computer vision. By leveraging data augmentation, we will improve our network to reach an accuracy of around 90%."
   ]
  },
  {
   "cell_type": "markdown",
   "metadata": {
    "id": "_22IH01Iwh7E"
   },
   "source": [
    "### 1.1 Downloading the data\n",
    "\n",
    "The cats vs. dogs dataset that we will use isn't packaged with Keras. It was made available by Kaggle.com as part of a computer vision competition in late 2013, back when convnets weren't quite mainstream. The original dataset is available at:\n",
    "`https://www.kaggle.com/c/dogs-vs-cats/data`."
   ]
  },
  {
   "cell_type": "markdown",
   "metadata": {
    "id": "p0fRLOM5wh7E"
   },
   "source": [
    "This original dataset contains 25,000 images of dogs and cats (12,500 from each class) and is 543MB large (compressed). In this Practical we will use a subset (\"cats_and_dogs_small.zip\") of the original dataset. It contains 4000 pictures of cats and dogs (2000 cats, 2000 dogs) and we will use 2000 pictures (1000 cats, 1000 dogs) for training, 1000 (500 cats, 500 dogs) for validation, and finally 1000 (500 cats, 500 dogs) for testing. You can download this small dataset (\"cats_and_dogs_small.zip\", around 90MB) from website and then unzip it. After that please assign directory you save the images to base_dir as shown below."
   ]
  },
  {
   "cell_type": "code",
   "execution_count": null,
   "metadata": {
    "id": "4zH54V_Gwh7F"
   },
   "outputs": [],
   "source": [
    "import os\n",
    "base_dir = './cats_and_dogs_small'\n",
    "\n",
    "train_dir = os.path.join(base_dir, 'train')\n",
    "validation_dir = os.path.join(base_dir, 'validation')\n",
    "test_dir = os.path.join(base_dir, 'test')"
   ]
  },
  {
   "cell_type": "markdown",
   "metadata": {
    "id": "XOh8ZQHVwh7F"
   },
   "source": [
    "### 1.2 Building our network\n",
    "\n",
    "Our convnet will be a stack of alternated `Conv2D` (with `relu` activation) and `MaxPooling2D` layers. We start from inputs of size 50x50 (a somewhat arbitrary choice), we end up with output of size 1x1 right before the `Flatten` layer.\n",
    "\n",
    "Note that the depth of the output is progressively increasing in the network (from 32 to 128), while the size of the output is\n",
    "decreasing (from 48x48 to 1x1). This is a pattern that you will see in almost all convnets.\n",
    "\n",
    "Since we are attacking a binary classification problem, we are ending the network with a single unit (a `Dense` layer of size 1) and a `sigmoid` activation. This unit will output the classification probability of one class or the other."
   ]
  },
  {
   "cell_type": "code",
   "execution_count": null,
   "metadata": {
    "id": "gpB6eayuwh7G"
   },
   "outputs": [],
   "source": [
    "from tensorflow.keras import layers\n",
    "from tensorflow.keras import models\n",
    "\n",
    "# We set image size as 50*50\n",
    "img_size = 50\n",
    "\n",
    "model = models.Sequential()\n",
    "model.add(layers.Conv2D(32, (3, 3), activation='relu',\n",
    "                        input_shape=(img_size, img_size, 3)))\n",
    "model.add(layers.MaxPooling2D((2, 2)))\n",
    "model.add(layers.Conv2D(64, (3, 3), activation='relu'))\n",
    "model.add(layers.MaxPooling2D((2, 2)))\n",
    "model.add(layers.Conv2D(128, (3, 3), activation='relu'))\n",
    "model.add(layers.MaxPooling2D((2, 2)))\n",
    "model.add(layers.Conv2D(128, (3, 3), activation='relu'))\n",
    "model.add(layers.MaxPooling2D((2, 2)))\n",
    "model.add(layers.Flatten())\n",
    "model.add(layers.Dense(512, activation='relu'))\n",
    "model.add(layers.Dense(1, activation='sigmoid'))"
   ]
  },
  {
   "cell_type": "markdown",
   "metadata": {
    "id": "3KNqHxefwh7H"
   },
   "source": [
    "Let's take a look at how the dimensions of the Output Shape change with every successive layer:"
   ]
  },
  {
   "cell_type": "code",
   "execution_count": null,
   "metadata": {
    "colab": {
     "base_uri": "https://localhost:8080/"
    },
    "id": "JBdvj4GZwh7H",
    "executionInfo": {
     "status": "ok",
     "timestamp": 1687837088849,
     "user_tz": -480,
     "elapsed": 9,
     "user": {
      "displayName": "Sergio Kun",
      "userId": "00471915761571772101"
     }
    },
    "outputId": "4a4ef87a-bec9-4f34-d8f9-c5170d0f008f"
   },
   "outputs": [
    {
     "output_type": "stream",
     "name": "stdout",
     "text": [
      "Model: \"sequential_3\"\n",
      "_________________________________________________________________\n",
      " Layer (type)                Output Shape              Param #   \n",
      "=================================================================\n",
      " conv2d_12 (Conv2D)          (None, 48, 48, 32)        896       \n",
      "                                                                 \n",
      " max_pooling2d_12 (MaxPoolin  (None, 24, 24, 32)       0         \n",
      " g2D)                                                            \n",
      "                                                                 \n",
      " conv2d_13 (Conv2D)          (None, 22, 22, 64)        18496     \n",
      "                                                                 \n",
      " max_pooling2d_13 (MaxPoolin  (None, 11, 11, 64)       0         \n",
      " g2D)                                                            \n",
      "                                                                 \n",
      " conv2d_14 (Conv2D)          (None, 9, 9, 128)         73856     \n",
      "                                                                 \n",
      " max_pooling2d_14 (MaxPoolin  (None, 4, 4, 128)        0         \n",
      " g2D)                                                            \n",
      "                                                                 \n",
      " conv2d_15 (Conv2D)          (None, 2, 2, 128)         147584    \n",
      "                                                                 \n",
      " max_pooling2d_15 (MaxPoolin  (None, 1, 1, 128)        0         \n",
      " g2D)                                                            \n",
      "                                                                 \n",
      " flatten_3 (Flatten)         (None, 128)               0         \n",
      "                                                                 \n",
      " dense_6 (Dense)             (None, 512)               66048     \n",
      "                                                                 \n",
      " dense_7 (Dense)             (None, 1)                 513       \n",
      "                                                                 \n",
      "=================================================================\n",
      "Total params: 307,393\n",
      "Trainable params: 307,393\n",
      "Non-trainable params: 0\n",
      "_________________________________________________________________\n"
     ]
    }
   ],
   "source": [
    "model.summary()"
   ]
  },
  {
   "cell_type": "markdown",
   "metadata": {
    "id": "1o38rn6uwh7H"
   },
   "source": [
    "For our compilation step, we'll go with the `RMSprop` optimizer as usual. Since we ended our network with a single sigmoid unit, we will use binary crossentropy as our loss."
   ]
  },
  {
   "cell_type": "code",
   "execution_count": null,
   "metadata": {
    "colab": {
     "base_uri": "https://localhost:8080/"
    },
    "id": "jhkd3htdwh7H",
    "executionInfo": {
     "status": "ok",
     "timestamp": 1687846097173,
     "user_tz": -480,
     "elapsed": 547,
     "user": {
      "displayName": "Sergio Kun",
      "userId": "00471915761571772101"
     }
    },
    "outputId": "648a65ab-1ef0-4fa8-b057-dde318d39ae5"
   },
   "outputs": [
    {
     "output_type": "stream",
     "name": "stderr",
     "text": [
      "WARNING:absl:`lr` is deprecated in Keras optimizer, please use `learning_rate` or use the legacy optimizer, e.g.,tf.keras.optimizers.legacy.RMSprop.\n"
     ]
    }
   ],
   "source": [
    "from tensorflow.keras import optimizers\n",
    "\n",
    "model.compile(loss='binary_crossentropy',\n",
    "              optimizer=optimizers.RMSprop(learning_rate=1e-4),\n",
    "              metrics=['acc'])"
   ]
  },
  {
   "cell_type": "markdown",
   "metadata": {
    "id": "Da2EQWqKwh7I"
   },
   "source": [
    "### 1.3 Data preprocessing\n",
    "\n",
    "As you already know by now, data should be formatted into appropriately pre-processed floating point tensors before being fed into our\n",
    "network. Currently, our data sits on a drive as JPEG files, so the steps for getting it into our network are roughly:\n",
    "\n",
    "* Read the picture files.\n",
    "* Decode the JPEG content to RBG grids of pixels.\n",
    "* Convert these into floating point tensors.\n",
    "* Rescale the pixel values (between 0 and 255) to the [0, 1] interval\n",
    "\n",
    "It may seem a bit daunting, but thankfully Keras has utilities to take care of these steps automatically. Keras has a module with image\n",
    "processing helper tools, located at `keras.preprocessing.image`. It contains the class `ImageDataGenerator` which allows to\n",
    "quickly set up Python generators that can automatically turn image files on disk into batches of pre-processed tensors. This is what we will use here."
   ]
  },
  {
   "cell_type": "code",
   "execution_count": null,
   "metadata": {
    "colab": {
     "base_uri": "https://localhost:8080/"
    },
    "id": "sDoDFy7-wh7I",
    "executionInfo": {
     "status": "ok",
     "timestamp": 1687846109400,
     "user_tz": -480,
     "elapsed": 9749,
     "user": {
      "displayName": "Sergio Kun",
      "userId": "00471915761571772101"
     }
    },
    "outputId": "a613d9d6-e9e4-45b6-a871-4d0ac729ddb2"
   },
   "outputs": [
    {
     "output_type": "stream",
     "name": "stdout",
     "text": [
      "Found 2000 images belonging to 2 classes.\n",
      "Found 1000 images belonging to 2 classes.\n"
     ]
    }
   ],
   "source": [
    "from tensorflow.keras.preprocessing.image import ImageDataGenerator\n",
    "\n",
    "# All images will be rescaled by 1./255\n",
    "train_datagen = ImageDataGenerator(rescale=1./255)\n",
    "test_datagen = ImageDataGenerator(rescale=1./255)\n",
    "\n",
    "train_generator = train_datagen.flow_from_directory(\n",
    "        # This is the target directory\n",
    "        train_dir,\n",
    "        # All images will be resized to 150x150\n",
    "        target_size=(img_size, img_size),\n",
    "        batch_size=20,\n",
    "        # Since we use binary_crossentropy loss, we need binary labels\n",
    "        class_mode='binary')\n",
    "\n",
    "validation_generator = test_datagen.flow_from_directory(\n",
    "        validation_dir,\n",
    "        target_size=(img_size, img_size),\n",
    "        batch_size=20,\n",
    "        class_mode='binary')"
   ]
  },
  {
   "cell_type": "markdown",
   "metadata": {
    "id": "P72jzvP0wh7I"
   },
   "source": [
    "Let's take a look at the output of one of these generators: it yields batches of 50x50 RGB images (shape `(20, 50, 50, 3)`) and binary labels (shape `(20,)`). 20 is the number of samples in each batch (the batch size). Note that the generator yields these batches indefinitely: it just loops endlessly over the images present in the target folder, so we need to `break` the iteration loop at some point."
   ]
  },
  {
   "cell_type": "code",
   "execution_count": null,
   "metadata": {
    "colab": {
     "base_uri": "https://localhost:8080/"
    },
    "id": "ulDjsFZDwh7I",
    "executionInfo": {
     "status": "ok",
     "timestamp": 1687837096785,
     "user_tz": -480,
     "elapsed": 252,
     "user": {
      "displayName": "Sergio Kun",
      "userId": "00471915761571772101"
     }
    },
    "outputId": "47dd553f-ca0a-4160-d2e8-de2a7493e6e6"
   },
   "outputs": [
    {
     "output_type": "stream",
     "name": "stdout",
     "text": [
      "data batch shape: (20, 50, 50, 3)\n",
      "labels batch shape: (20,)\n"
     ]
    }
   ],
   "source": [
    "for data_batch, labels_batch in train_generator:\n",
    "    print('data batch shape:', data_batch.shape)\n",
    "    print('labels batch shape:', labels_batch.shape)\n",
    "    break"
   ]
  },
  {
   "cell_type": "markdown",
   "metadata": {
    "id": "2DyumVQnwh7J"
   },
   "source": [
    "Let's fit our model to the data using the generator. We do it using the `fit_generator` method, the equivalent of `fit` for data generators like ours. It expects as first argument a Python generator that will yield batches of inputs and targets indefinitely.\n",
    "Because the data is being generated endlessly, the generator needs to know how many samples to draw from the generator before declaring an epoch over. This is the role of the `steps_per_epoch` argument: after having drawn `steps_per_epoch` batches from the generator, i.e. after having run for `steps_per_epoch` gradient descent steps, the fitting process will go to the next epoch. In our case, batches are 20-sample large, so it will take 100 batches (=20*100 samples) until we see our target of 2000 samples.\n",
    "\n",
    "When using `fit_generator`, one may pass a `validation_data` argument, much like with the `fit` method. Importantly, this argument is mostly a data generator.  After you pass a generator to `validation_data`, then\n",
    "this generator is expected to yield batches of validation data endlessly, and thus you should also specify the `validation_steps` argument, which tells the process how many batches to draw from the validation generator for evaluation."
   ]
  },
  {
   "cell_type": "code",
   "execution_count": null,
   "metadata": {
    "colab": {
     "base_uri": "https://localhost:8080/"
    },
    "id": "TIx5Kso8wh7J",
    "executionInfo": {
     "status": "ok",
     "timestamp": 1687838123629,
     "user_tz": -480,
     "elapsed": 1024809,
     "user": {
      "displayName": "Sergio Kun",
      "userId": "00471915761571772101"
     }
    },
    "outputId": "227d081b-646d-454c-fe4b-e1d70882240a"
   },
   "outputs": [
    {
     "output_type": "stream",
     "name": "stdout",
     "text": [
      "Epoch 1/30\n",
      "100/100 [==============================] - 25s 134ms/step - loss: 0.6981 - acc: 0.5155 - val_loss: 0.6951 - val_acc: 0.5000\n",
      "Epoch 2/30\n",
      "100/100 [==============================] - 14s 145ms/step - loss: 0.6914 - acc: 0.5280 - val_loss: 0.6852 - val_acc: 0.5330\n",
      "Epoch 3/30\n",
      "100/100 [==============================] - 20s 198ms/step - loss: 0.6764 - acc: 0.5650 - val_loss: 0.6602 - val_acc: 0.6310\n",
      "Epoch 4/30\n",
      "100/100 [==============================] - 17s 167ms/step - loss: 0.6577 - acc: 0.6125 - val_loss: 0.6373 - val_acc: 0.6400\n",
      "Epoch 5/30\n",
      "100/100 [==============================] - 16s 160ms/step - loss: 0.6251 - acc: 0.6520 - val_loss: 0.6512 - val_acc: 0.6040\n",
      "Epoch 6/30\n",
      "100/100 [==============================] - 15s 149ms/step - loss: 0.5861 - acc: 0.6915 - val_loss: 0.6112 - val_acc: 0.6680\n",
      "Epoch 7/30\n",
      "100/100 [==============================] - 14s 139ms/step - loss: 0.5365 - acc: 0.7335 - val_loss: 0.6152 - val_acc: 0.6720\n",
      "Epoch 8/30\n",
      "100/100 [==============================] - 13s 131ms/step - loss: 0.4977 - acc: 0.7640 - val_loss: 0.6907 - val_acc: 0.6660\n",
      "Epoch 9/30\n",
      "100/100 [==============================] - 13s 132ms/step - loss: 0.4528 - acc: 0.7880 - val_loss: 0.8132 - val_acc: 0.6230\n",
      "Epoch 10/30\n",
      "100/100 [==============================] - 14s 140ms/step - loss: 0.3977 - acc: 0.8265 - val_loss: 0.6674 - val_acc: 0.6770\n",
      "Epoch 11/30\n",
      "100/100 [==============================] - 13s 129ms/step - loss: 0.3442 - acc: 0.8610 - val_loss: 0.7084 - val_acc: 0.6970\n",
      "Epoch 12/30\n",
      "100/100 [==============================] - 13s 130ms/step - loss: 0.3070 - acc: 0.8770 - val_loss: 0.7593 - val_acc: 0.6900\n",
      "Epoch 13/30\n",
      "100/100 [==============================] - 14s 139ms/step - loss: 0.2347 - acc: 0.8985 - val_loss: 0.9045 - val_acc: 0.6930\n",
      "Epoch 14/30\n",
      "100/100 [==============================] - 13s 131ms/step - loss: 0.1936 - acc: 0.9185 - val_loss: 0.8431 - val_acc: 0.6830\n",
      "Epoch 15/30\n",
      "100/100 [==============================] - 19s 195ms/step - loss: 0.1546 - acc: 0.9415 - val_loss: 0.9278 - val_acc: 0.6990\n",
      "Epoch 16/30\n",
      "100/100 [==============================] - 16s 162ms/step - loss: 0.1228 - acc: 0.9615 - val_loss: 1.1412 - val_acc: 0.7160\n",
      "Epoch 17/30\n",
      "100/100 [==============================] - 14s 145ms/step - loss: 0.1200 - acc: 0.9520 - val_loss: 1.1155 - val_acc: 0.7070\n",
      "Epoch 18/30\n",
      "100/100 [==============================] - 13s 130ms/step - loss: 0.0961 - acc: 0.9635 - val_loss: 1.3317 - val_acc: 0.6910\n",
      "Epoch 19/30\n",
      "100/100 [==============================] - 13s 135ms/step - loss: 0.0745 - acc: 0.9720 - val_loss: 1.3719 - val_acc: 0.7150\n",
      "Epoch 20/30\n",
      "100/100 [==============================] - 243s 2s/step - loss: 0.1008 - acc: 0.9665 - val_loss: 1.5943 - val_acc: 0.7020\n",
      "Epoch 21/30\n",
      "100/100 [==============================] - 282s 3s/step - loss: 0.0586 - acc: 0.9810 - val_loss: 1.8853 - val_acc: 0.6670\n",
      "Epoch 22/30\n",
      "100/100 [==============================] - 13s 129ms/step - loss: 0.0685 - acc: 0.9745 - val_loss: 1.5919 - val_acc: 0.7080\n",
      "Epoch 23/30\n",
      "100/100 [==============================] - 12s 118ms/step - loss: 0.0724 - acc: 0.9745 - val_loss: 1.4675 - val_acc: 0.6950\n",
      "Epoch 24/30\n",
      "100/100 [==============================] - 12s 125ms/step - loss: 0.0518 - acc: 0.9830 - val_loss: 2.8471 - val_acc: 0.6110\n",
      "Epoch 25/30\n",
      "100/100 [==============================] - 12s 124ms/step - loss: 0.0813 - acc: 0.9730 - val_loss: 1.5067 - val_acc: 0.7070\n",
      "Epoch 26/30\n",
      "100/100 [==============================] - 14s 142ms/step - loss: 0.0655 - acc: 0.9830 - val_loss: 1.4395 - val_acc: 0.7210\n",
      "Epoch 27/30\n",
      "100/100 [==============================] - 12s 124ms/step - loss: 0.0481 - acc: 0.9830 - val_loss: 1.6738 - val_acc: 0.7060\n",
      "Epoch 28/30\n",
      "100/100 [==============================] - 13s 129ms/step - loss: 0.0435 - acc: 0.9840 - val_loss: 1.7593 - val_acc: 0.7150\n",
      "Epoch 29/30\n",
      "100/100 [==============================] - 13s 129ms/step - loss: 0.0544 - acc: 0.9820 - val_loss: 1.7799 - val_acc: 0.7040\n",
      "Epoch 30/30\n",
      "100/100 [==============================] - 23s 233ms/step - loss: 0.0355 - acc: 0.9895 - val_loss: 1.9220 - val_acc: 0.7180\n"
     ]
    }
   ],
   "source": [
    "history = model.fit(\n",
    "      train_generator,\n",
    "      steps_per_epoch=100,\n",
    "      epochs=30,\n",
    "      validation_data=validation_generator,\n",
    "      validation_steps=50)"
   ]
  },
  {
   "cell_type": "markdown",
   "metadata": {
    "collapsed": true,
    "id": "eVcVtrA9wh7J"
   },
   "source": [
    "It is good practice to always save your models after training:"
   ]
  },
  {
   "cell_type": "code",
   "execution_count": null,
   "metadata": {
    "id": "ZuietTrswh7K"
   },
   "outputs": [],
   "source": [
    "model.save('cats_and_dogs_small_1.h5')"
   ]
  },
  {
   "cell_type": "markdown",
   "metadata": {
    "id": "DHE_cVTdwh7K"
   },
   "source": [
    "Let's plot the loss and accuracy of the model over the training and validation data during training:"
   ]
  },
  {
   "cell_type": "code",
   "execution_count": null,
   "metadata": {
    "id": "k7hvi7Kbwh7K",
    "outputId": "607aa8f8-0712-403d-a5b6-f0eff0d4eaca",
    "colab": {
     "base_uri": "https://localhost:8080/",
     "height": 887
    },
    "executionInfo": {
     "status": "ok",
     "timestamp": 1687838124320,
     "user_tz": -480,
     "elapsed": 694,
     "user": {
      "displayName": "Sergio Kun",
      "userId": "00471915761571772101"
     }
    }
   },
   "outputs": [
    {
     "output_type": "display_data",
     "data": {
      "text/plain": [
       "<Figure size 640x480 with 1 Axes>"
      ],
      "image/png": "[encoded data removed]"
     },
     "metadata": {}
    },
    {
     "output_type": "display_data",
     "data": {
      "text/plain": [
       "<Figure size 640x480 with 1 Axes>"
      ],
      "image/png": "[encoded data removed]"
     },
     "metadata": {}
    }
   ],
   "source": [
    "import matplotlib.pyplot as plt\n",
    "%matplotlib inline\n",
    "\n",
    "acc = history.history['acc']\n",
    "val_acc = history.history['val_acc']\n",
    "loss = history.history['loss']\n",
    "val_loss = history.history['val_loss']\n",
    "\n",
    "epochs = range(len(acc))\n",
    "\n",
    "plt.plot(epochs, acc, 'bo', label='Training acc')\n",
    "plt.plot(epochs, val_acc, 'b', label='Validation acc')\n",
    "plt.title('Training and validation accuracy')\n",
    "plt.legend()\n",
    "\n",
    "plt.figure()\n",
    "\n",
    "plt.plot(epochs, loss, 'bo', label='Training loss')\n",
    "plt.plot(epochs, val_loss, 'b', label='Validation loss')\n",
    "plt.title('Training and validation loss')\n",
    "plt.legend()\n",
    "\n",
    "plt.show()"
   ]
  },
  {
   "cell_type": "markdown",
   "metadata": {
    "id": "6oH2SOCPwh7K"
   },
   "source": [
    "We can easily see overfitting through these plots. Our training accuracy increases linearly over time, until it reaches nearly 90%, while our validation accuracy stalls at around 70%. Our validation loss reaches its minimum after only a few epochs then stalls, while the training loss keeps decreasing linearly until it reaches nearly 0.\n",
    "\n",
    "Because we only have relatively few training samples (2000), overfitting is going to be our number one concern. You already know about a number of techniques that can help mitigate overfitting, such as dropout and weight decay (L2 regularization). We are now going to introduce a new one, specific to computer vision, and used almost universally when processing images with deep learning models: *data augmentation*."
   ]
  },
  {
   "cell_type": "markdown",
   "metadata": {
    "id": "8iqXBBXkwh7K"
   },
   "source": [
    "### 1.4 Using data augmentation\n",
    "\n",
    "Overfitting is caused by having too few samples to learn from, rendering us unable to train a model able to generalize to new data.\n",
    "Given infinite data, our model would be exposed to every possible aspect of the data distribution at hand: we would never overfit. Data\n",
    "augmentation takes the approach of generating more training data from existing training samples, by \"augmenting\" the samples via a number\n",
    "of random transformations that yield believable-looking images. The goal is that at training time, our model would never see the exact same\n",
    "picture twice. This helps the model get exposed to more aspects of the data and generalize better.\n",
    "\n",
    "In Keras, this can be done by configuring a number of random transformations to be performed on the images read by our `ImageDataGenerator`\n",
    "instance. Let's get started with an example:"
   ]
  },
  {
   "cell_type": "code",
   "execution_count": null,
   "metadata": {
    "id": "QELUIqpywh7L"
   },
   "outputs": [],
   "source": [
    "datagen = ImageDataGenerator(\n",
    "      rotation_range=40,\n",
    "      width_shift_range=0.2,\n",
    "      height_shift_range=0.2,\n",
    "      shear_range=0.2,\n",
    "      zoom_range=0.2,\n",
    "      horizontal_flip=True,\n",
    "      fill_mode='nearest')"
   ]
  },
  {
   "cell_type": "markdown",
   "metadata": {
    "id": "S07zYiRhwh7L"
   },
   "source": [
    "These are just a few of the options available (for more, see the Keras documentation). Let's quickly go over what we just wrote:\n",
    "\n",
    "* `rotation_range` is a value in degrees (0-180), a range within which to randomly rotate pictures.\n",
    "* `width_shift` and `height_shift` are ranges (as a fraction of total width or height) within which to randomly translate pictures\n",
    "vertically or horizontally.\n",
    "* `shear_range` is for randomly applying shearing transformations.\n",
    "* `zoom_range` is for randomly zooming inside pictures.\n",
    "* `horizontal_flip` is for randomly flipping half of the images horizontally -- relevant when there are no assumptions of horizontal\n",
    "asymmetry (e.g. real-world pictures).\n",
    "* `fill_mode` is the strategy used for filling in newly created pixels, which can appear after a rotation or a width/height shift.\n",
    "\n",
    "Let's take a look at our augmented images:"
   ]
  },
  {
   "cell_type": "code",
   "execution_count": null,
   "metadata": {
    "id": "ExDt5DlFwh7L",
    "outputId": "f12396a0-6bc8-42d6-d67f-7899c3923bfb",
    "colab": {
     "base_uri": "https://localhost:8080/",
     "height": 1000
    },
    "executionInfo": {
     "status": "ok",
     "timestamp": 1687838124677,
     "user_tz": -480,
     "elapsed": 360,
     "user": {
      "displayName": "Sergio Kun",
      "userId": "00471915761571772101"
     }
    }
   },
   "outputs": [
    {
     "output_type": "display_data",
     "data": {
      "text/plain": [
       "<Figure size 640x480 with 1 Axes>"
      ],
      "image/png": "[encoded data removed]"
     },
     "metadata": {}
    },
    {
     "output_type": "display_data",
     "data": {
      "text/plain": [
       "<Figure size 640x480 with 1 Axes>"
      ],
      "image/png": "[encoded data removed]"
     },
     "metadata": {}
    },
    {
     "output_type": "display_data",
     "data": {
      "text/plain": [
       "<Figure size 640x480 with 1 Axes>"
      ],
      "image/png": "[encoded data removed]"
     },
     "metadata": {}
    },
    {
     "output_type": "display_data",
     "data": {
      "text/plain": [
       "<Figure size 640x480 with 1 Axes>"
      ],
      "image/png": "[encoded data removed]"
     },
     "metadata": {}
    }
   ],
   "source": [
    "# This is module with image preprocessing utilities\n",
    "import os\n",
    "import matplotlib.pyplot as plt\n",
    "\n",
    "from tensorflow.keras.preprocessing import image\n",
    "train_cats_dir = os.path.join(base_dir, 'train/cats')\n",
    "\n",
    "fnames = [os.path.join(train_cats_dir, fname) for fname in os.listdir(train_cats_dir)]\n",
    "\n",
    "# We pick one image to \"augment\"\n",
    "img_path = fnames[3]\n",
    "\n",
    "# Read the image and resize it\n",
    "img = image.load_img(img_path, target_size=(img_size, img_size))\n",
    "\n",
    "# Convert it to a Numpy array with shape (50, 50, 3)\n",
    "x = image.img_to_array(img)\n",
    "\n",
    "# Reshape it to (1, 50, 50, 3)\n",
    "x = x.reshape((1,) + x.shape)\n",
    "\n",
    "# The .flow() command below generates batches of randomly transformed images.\n",
    "# It will loop indefinitely, so we need to `break` the loop at some point!\n",
    "i = 0\n",
    "for batch in datagen.flow(x, batch_size=1):\n",
    "    plt.figure(i)\n",
    "    imgplot = plt.imshow(image.array_to_img(batch[0]))\n",
    "    i += 1\n",
    "    if i % 4 == 0:\n",
    "        break\n",
    "\n",
    "\n",
    "plt.show()"
   ]
  },
  {
   "cell_type": "markdown",
   "metadata": {
    "id": "p6xx3Yy4wh7L"
   },
   "source": [
    "If we train a new network using this data augmentation configuration, our network will never see twice the same input. However, the inputs\n",
    "that it sees are still heavily intercorrelated, since they come from a small number of original images -- we cannot produce new information,\n",
    "we can only remix existing information. As such, this might not be quite enough to completely get rid of overfitting. To further fight\n",
    "overfitting, we will also add a Dropout layer to our model, right before the densely-connected classifier:"
   ]
  },
  {
   "cell_type": "code",
   "execution_count": null,
   "metadata": {
    "id": "xEyijmUzwh7L",
    "outputId": "237f9db9-4fc2-43cc-9e74-64093c834c8d",
    "colab": {
     "base_uri": "https://localhost:8080/"
    },
    "executionInfo": {
     "status": "ok",
     "timestamp": 1687838125108,
     "user_tz": -480,
     "elapsed": 433,
     "user": {
      "displayName": "Sergio Kun",
      "userId": "00471915761571772101"
     }
    }
   },
   "outputs": [
    {
     "output_type": "stream",
     "name": "stdout",
     "text": [
      "Model: \"sequential_4\"\n",
      "_________________________________________________________________\n",
      " Layer (type)                Output Shape              Param #   \n",
      "=================================================================\n",
      " conv2d_16 (Conv2D)          (None, 48, 48, 32)        896       \n",
      "                                                                 \n",
      " max_pooling2d_16 (MaxPoolin  (None, 24, 24, 32)       0         \n",
      " g2D)                                                            \n",
      "                                                                 \n",
      " conv2d_17 (Conv2D)          (None, 22, 22, 64)        18496     \n",
      "                                                                 \n",
      " max_pooling2d_17 (MaxPoolin  (None, 11, 11, 64)       0         \n",
      " g2D)                                                            \n",
      "                                                                 \n",
      " conv2d_18 (Conv2D)          (None, 9, 9, 128)         73856     \n",
      "                                                                 \n",
      " max_pooling2d_18 (MaxPoolin  (None, 4, 4, 128)        0         \n",
      " g2D)                                                            \n",
      "                                                                 \n",
      " conv2d_19 (Conv2D)          (None, 2, 2, 128)         147584    \n",
      "                                                                 \n",
      " max_pooling2d_19 (MaxPoolin  (None, 1, 1, 128)        0         \n",
      " g2D)                                                            \n",
      "                                                                 \n",
      " flatten_4 (Flatten)         (None, 128)               0         \n",
      "                                                                 \n",
      " dropout (Dropout)           (None, 128)               0         \n",
      "                                                                 \n",
      " dense_8 (Dense)             (None, 512)               66048     \n",
      "                                                                 \n",
      " dense_9 (Dense)             (None, 1)                 513       \n",
      "                                                                 \n",
      "=================================================================\n",
      "Total params: 307,393\n",
      "Trainable params: 307,393\n",
      "Non-trainable params: 0\n",
      "_________________________________________________________________\n"
     ]
    },
    {
     "output_type": "stream",
     "name": "stderr",
     "text": [
      "WARNING:absl:`lr` is deprecated in Keras optimizer, please use `learning_rate` or use the legacy optimizer, e.g.,tf.keras.optimizers.legacy.RMSprop.\n"
     ]
    }
   ],
   "source": [
    "model = models.Sequential()\n",
    "model.add(layers.Conv2D(32, (3, 3), activation='relu',\n",
    "                        input_shape=(img_size, img_size, 3)))\n",
    "model.add(layers.MaxPooling2D((2, 2)))\n",
    "model.add(layers.Conv2D(64, (3, 3), activation='relu'))\n",
    "model.add(layers.MaxPooling2D((2, 2)))\n",
    "model.add(layers.Conv2D(128, (3, 3), activation='relu'))\n",
    "model.add(layers.MaxPooling2D((2, 2)))\n",
    "model.add(layers.Conv2D(128, (3, 3), activation='relu'))\n",
    "model.add(layers.MaxPooling2D((2, 2)))\n",
    "model.add(layers.Flatten())\n",
    "model.add(layers.Dropout(0.5))\n",
    "model.add(layers.Dense(512, activation='relu'))\n",
    "model.add(layers.Dense(1, activation='sigmoid'))\n",
    "\n",
    "model.summary()\n",
    "\n",
    "model.compile(loss='binary_crossentropy',\n",
    "              optimizer=optimizers.RMSprop(lr=1e-4),\n",
    "              metrics=['acc'])"
   ]
  },
  {
   "cell_type": "markdown",
   "metadata": {
    "id": "Cxd_eyoUwh7M"
   },
   "source": [
    "Let's train our network using data augmentation and dropout:"
   ]
  },
  {
   "cell_type": "code",
   "execution_count": null,
   "metadata": {
    "outputId": "de2e9fd7-0b39-4a04-abbf-0448765d2823",
    "colab": {
     "base_uri": "https://localhost:8080/"
    },
    "executionInfo": {
     "status": "ok",
     "timestamp": 1687838125108,
     "user_tz": -480,
     "elapsed": 4,
     "user": {
      "displayName": "Sergio Kun",
      "userId": "00471915761571772101"
     }
    },
    "id": "APXwj301TNIR"
   },
   "outputs": [
    {
     "output_type": "stream",
     "name": "stdout",
     "text": [
      "Found 2000 images belonging to 2 classes.\n",
      "Found 1000 images belonging to 2 classes.\n"
     ]
    }
   ],
   "source": [
    "train_datagen = ImageDataGenerator(\n",
    "    rescale=1./255,\n",
    "    rotation_range=40,\n",
    "    width_shift_range=0.2,\n",
    "    height_shift_range=0.2,\n",
    "    shear_range=0.2,\n",
    "    zoom_range=0.2,\n",
    "    horizontal_flip=True,)\n",
    "\n",
    "# Note that the validation data should not be augmented!\n",
    "test_datagen = ImageDataGenerator(rescale=1./255)\n",
    "\n",
    "train_generator = train_datagen.flow_from_directory(\n",
    "        # This is the target directory\n",
    "        train_dir,\n",
    "        # All images will be resized to 50x50\n",
    "        target_size=(img_size, img_size),\n",
    "        batch_size=20,\n",
    "        # Since we use binary_crossentropy loss, we need binary labels\n",
    "        class_mode='binary')\n",
    "\n",
    "validation_generator = test_datagen.flow_from_directory(\n",
    "        validation_dir,\n",
    "        target_size=(img_size, img_size),\n",
    "        batch_size=20,\n",
    "        class_mode='binary')\n",
    "\n"
   ]
  },
  {
   "cell_type": "code",
   "execution_count": null,
   "metadata": {
    "id": "G9Rn0uM9wh7M",
    "outputId": "dc5d3edb-9a80-4f8b-ea51-928fad9f20f7",
    "colab": {
     "base_uri": "https://localhost:8080/"
    },
    "executionInfo": {
     "status": "ok",
     "timestamp": 1687839792338,
     "user_tz": -480,
     "elapsed": 1667232,
     "user": {
      "displayName": "Sergio Kun",
      "userId": "00471915761571772101"
     }
    }
   },
   "outputs": [
    {
     "output_type": "stream",
     "name": "stdout",
     "text": [
      "Epoch 1/100\n",
      "100/100 [==============================] - 18s 150ms/step - loss: 0.7016 - acc: 0.5095 - val_loss: 0.6947 - val_acc: 0.5000\n",
      "Epoch 2/100\n",
      "100/100 [==============================] - 14s 139ms/step - loss: 0.6935 - acc: 0.5210 - val_loss: 0.6853 - val_acc: 0.5940\n",
      "Epoch 3/100\n",
      "100/100 [==============================] - 14s 140ms/step - loss: 0.6865 - acc: 0.5530 - val_loss: 0.6688 - val_acc: 0.6150\n",
      "Epoch 4/100\n",
      "100/100 [==============================] - 14s 141ms/step - loss: 0.6806 - acc: 0.5800 - val_loss: 0.6438 - val_acc: 0.6270\n",
      "Epoch 5/100\n",
      "100/100 [==============================] - 15s 146ms/step - loss: 0.6697 - acc: 0.5930 - val_loss: 0.6445 - val_acc: 0.6400\n",
      "Epoch 6/100\n",
      "100/100 [==============================] - 14s 141ms/step - loss: 0.6618 - acc: 0.5995 - val_loss: 0.6232 - val_acc: 0.6620\n",
      "Epoch 7/100\n",
      "100/100 [==============================] - 15s 150ms/step - loss: 0.6534 - acc: 0.6165 - val_loss: 0.6387 - val_acc: 0.6260\n",
      "Epoch 8/100\n",
      "100/100 [==============================] - 14s 143ms/step - loss: 0.6492 - acc: 0.6075 - val_loss: 0.6390 - val_acc: 0.6750\n",
      "Epoch 9/100\n",
      "100/100 [==============================] - 17s 167ms/step - loss: 0.6336 - acc: 0.6435 - val_loss: 0.5893 - val_acc: 0.7060\n",
      "Epoch 10/100\n",
      "100/100 [==============================] - 14s 141ms/step - loss: 0.6371 - acc: 0.6510 - val_loss: 0.7411 - val_acc: 0.5190\n",
      "Epoch 11/100\n",
      "100/100 [==============================] - 16s 157ms/step - loss: 0.6223 - acc: 0.6465 - val_loss: 0.6528 - val_acc: 0.6030\n",
      "Epoch 12/100\n",
      "100/100 [==============================] - 16s 157ms/step - loss: 0.6200 - acc: 0.6485 - val_loss: 0.5880 - val_acc: 0.6980\n",
      "Epoch 13/100\n",
      "100/100 [==============================] - 14s 144ms/step - loss: 0.6149 - acc: 0.6595 - val_loss: 0.6113 - val_acc: 0.6430\n",
      "Epoch 14/100\n",
      "100/100 [==============================] - 15s 149ms/step - loss: 0.6148 - acc: 0.6665 - val_loss: 0.6616 - val_acc: 0.6180\n",
      "Epoch 15/100\n",
      "100/100 [==============================] - 14s 143ms/step - loss: 0.6148 - acc: 0.6650 - val_loss: 0.5682 - val_acc: 0.6890\n",
      "Epoch 16/100\n",
      "100/100 [==============================] - 14s 142ms/step - loss: 0.6035 - acc: 0.6785 - val_loss: 0.6432 - val_acc: 0.6040\n",
      "Epoch 17/100\n",
      "100/100 [==============================] - 14s 140ms/step - loss: 0.5933 - acc: 0.6835 - val_loss: 0.5680 - val_acc: 0.6970\n",
      "Epoch 18/100\n",
      "100/100 [==============================] - 14s 141ms/step - loss: 0.5813 - acc: 0.6950 - val_loss: 0.6111 - val_acc: 0.6490\n",
      "Epoch 19/100\n",
      "100/100 [==============================] - 15s 155ms/step - loss: 0.5667 - acc: 0.7080 - val_loss: 0.5758 - val_acc: 0.6680\n",
      "Epoch 20/100\n",
      "100/100 [==============================] - 14s 140ms/step - loss: 0.5828 - acc: 0.7005 - val_loss: 0.5453 - val_acc: 0.7300\n",
      "Epoch 21/100\n",
      "100/100 [==============================] - 15s 155ms/step - loss: 0.5723 - acc: 0.7100 - val_loss: 0.5696 - val_acc: 0.7070\n",
      "Epoch 22/100\n",
      "100/100 [==============================] - 15s 152ms/step - loss: 0.5716 - acc: 0.7050 - val_loss: 0.5868 - val_acc: 0.6430\n",
      "Epoch 23/100\n",
      "100/100 [==============================] - 16s 158ms/step - loss: 0.5549 - acc: 0.7135 - val_loss: 0.5285 - val_acc: 0.7090\n",
      "Epoch 24/100\n",
      "100/100 [==============================] - 15s 149ms/step - loss: 0.5764 - acc: 0.7105 - val_loss: 0.5248 - val_acc: 0.7310\n",
      "Epoch 25/100\n",
      "100/100 [==============================] - 14s 143ms/step - loss: 0.5671 - acc: 0.7050 - val_loss: 0.5273 - val_acc: 0.7250\n",
      "Epoch 26/100\n",
      "100/100 [==============================] - 14s 141ms/step - loss: 0.5582 - acc: 0.7100 - val_loss: 0.5715 - val_acc: 0.6880\n",
      "Epoch 27/100\n",
      "100/100 [==============================] - 15s 147ms/step - loss: 0.5707 - acc: 0.7115 - val_loss: 0.5523 - val_acc: 0.7030\n",
      "Epoch 28/100\n",
      "100/100 [==============================] - 15s 145ms/step - loss: 0.5491 - acc: 0.7305 - val_loss: 0.5581 - val_acc: 0.7100\n",
      "Epoch 29/100\n",
      "100/100 [==============================] - 14s 143ms/step - loss: 0.5618 - acc: 0.7195 - val_loss: 0.5140 - val_acc: 0.7430\n",
      "Epoch 30/100\n",
      "100/100 [==============================] - 14s 143ms/step - loss: 0.5539 - acc: 0.7290 - val_loss: 0.5521 - val_acc: 0.7010\n",
      "Epoch 31/100\n",
      "100/100 [==============================] - 14s 143ms/step - loss: 0.5550 - acc: 0.7185 - val_loss: 0.5323 - val_acc: 0.7150\n",
      "Epoch 32/100\n",
      "100/100 [==============================] - 14s 143ms/step - loss: 0.5553 - acc: 0.7195 - val_loss: 0.5002 - val_acc: 0.7450\n",
      "Epoch 33/100\n",
      "100/100 [==============================] - 14s 144ms/step - loss: 0.5572 - acc: 0.7320 - val_loss: 0.5373 - val_acc: 0.7030\n",
      "Epoch 34/100\n",
      "100/100 [==============================] - 14s 144ms/step - loss: 0.5416 - acc: 0.7335 - val_loss: 0.5891 - val_acc: 0.6550\n",
      "Epoch 35/100\n",
      "100/100 [==============================] - 15s 155ms/step - loss: 0.5578 - acc: 0.7155 - val_loss: 0.4948 - val_acc: 0.7590\n",
      "Epoch 36/100\n",
      "100/100 [==============================] - 15s 146ms/step - loss: 0.5307 - acc: 0.7460 - val_loss: 0.5123 - val_acc: 0.7370\n",
      "Epoch 37/100\n",
      "100/100 [==============================] - 14s 144ms/step - loss: 0.5307 - acc: 0.7470 - val_loss: 0.4872 - val_acc: 0.7530\n",
      "Epoch 38/100\n",
      "100/100 [==============================] - 14s 143ms/step - loss: 0.5560 - acc: 0.7240 - val_loss: 0.5730 - val_acc: 0.6920\n",
      "Epoch 39/100\n",
      "100/100 [==============================] - 14s 144ms/step - loss: 0.5295 - acc: 0.7305 - val_loss: 0.5072 - val_acc: 0.7410\n",
      "Epoch 40/100\n",
      "100/100 [==============================] - 15s 148ms/step - loss: 0.5391 - acc: 0.7345 - val_loss: 0.4750 - val_acc: 0.7690\n",
      "Epoch 41/100\n",
      "100/100 [==============================] - 14s 143ms/step - loss: 0.5322 - acc: 0.7385 - val_loss: 0.5060 - val_acc: 0.7430\n",
      "Epoch 42/100\n",
      "100/100 [==============================] - 14s 142ms/step - loss: 0.5299 - acc: 0.7390 - val_loss: 0.5053 - val_acc: 0.7210\n",
      "Epoch 43/100\n",
      "100/100 [==============================] - 14s 143ms/step - loss: 0.5318 - acc: 0.7420 - val_loss: 0.4752 - val_acc: 0.7710\n",
      "Epoch 44/100\n",
      "100/100 [==============================] - 14s 144ms/step - loss: 0.5173 - acc: 0.7605 - val_loss: 0.5154 - val_acc: 0.7170\n",
      "Epoch 45/100\n",
      "100/100 [==============================] - 14s 144ms/step - loss: 0.5149 - acc: 0.7550 - val_loss: 0.5134 - val_acc: 0.7330\n",
      "Epoch 46/100\n",
      "100/100 [==============================] - 16s 158ms/step - loss: 0.5333 - acc: 0.7340 - val_loss: 0.5235 - val_acc: 0.6970\n",
      "Epoch 47/100\n",
      "100/100 [==============================] - 14s 143ms/step - loss: 0.5255 - acc: 0.7495 - val_loss: 0.5118 - val_acc: 0.7630\n",
      "Epoch 48/100\n",
      "100/100 [==============================] - 14s 143ms/step - loss: 0.5100 - acc: 0.7555 - val_loss: 0.4695 - val_acc: 0.7660\n",
      "Epoch 49/100\n",
      "100/100 [==============================] - 16s 160ms/step - loss: 0.5195 - acc: 0.7495 - val_loss: 0.4715 - val_acc: 0.7550\n",
      "Epoch 50/100\n",
      "100/100 [==============================] - 14s 145ms/step - loss: 0.5004 - acc: 0.7565 - val_loss: 0.4918 - val_acc: 0.7470\n",
      "Epoch 51/100\n",
      "100/100 [==============================] - 14s 143ms/step - loss: 0.4974 - acc: 0.7630 - val_loss: 0.4691 - val_acc: 0.7710\n",
      "Epoch 52/100\n",
      "100/100 [==============================] - 14s 143ms/step - loss: 0.4981 - acc: 0.7725 - val_loss: 0.5984 - val_acc: 0.6900\n",
      "Epoch 53/100\n",
      "100/100 [==============================] - 14s 144ms/step - loss: 0.5069 - acc: 0.7575 - val_loss: 0.4836 - val_acc: 0.7390\n",
      "Epoch 54/100\n",
      "100/100 [==============================] - 14s 145ms/step - loss: 0.4953 - acc: 0.7705 - val_loss: 0.7401 - val_acc: 0.6180\n",
      "Epoch 55/100\n",
      "100/100 [==============================] - 16s 159ms/step - loss: 0.5119 - acc: 0.7470 - val_loss: 0.4659 - val_acc: 0.7620\n",
      "Epoch 56/100\n",
      "100/100 [==============================] - 14s 145ms/step - loss: 0.4992 - acc: 0.7635 - val_loss: 0.4807 - val_acc: 0.7570\n",
      "Epoch 57/100\n",
      "100/100 [==============================] - 14s 145ms/step - loss: 0.5072 - acc: 0.7590 - val_loss: 0.4549 - val_acc: 0.7890\n",
      "Epoch 58/100\n",
      "100/100 [==============================] - 14s 145ms/step - loss: 0.5041 - acc: 0.7565 - val_loss: 0.4738 - val_acc: 0.7590\n",
      "Epoch 59/100\n",
      "100/100 [==============================] - 14s 145ms/step - loss: 0.4790 - acc: 0.7710 - val_loss: 0.4660 - val_acc: 0.7760\n",
      "Epoch 60/100\n",
      "100/100 [==============================] - 14s 145ms/step - loss: 0.5109 - acc: 0.7555 - val_loss: 0.4860 - val_acc: 0.7540\n",
      "Epoch 61/100\n",
      "100/100 [==============================] - 14s 144ms/step - loss: 0.4927 - acc: 0.7615 - val_loss: 0.4642 - val_acc: 0.7780\n",
      "Epoch 62/100\n",
      "100/100 [==============================] - 14s 145ms/step - loss: 0.4959 - acc: 0.7725 - val_loss: 0.4826 - val_acc: 0.7360\n",
      "Epoch 63/100\n",
      "100/100 [==============================] - 15s 155ms/step - loss: 0.4966 - acc: 0.7730 - val_loss: 0.4868 - val_acc: 0.7440\n",
      "Epoch 64/100\n",
      "100/100 [==============================] - 15s 148ms/step - loss: 0.4857 - acc: 0.7630 - val_loss: 0.5555 - val_acc: 0.7340\n",
      "Epoch 65/100\n",
      "100/100 [==============================] - 15s 146ms/step - loss: 0.4950 - acc: 0.7730 - val_loss: 0.5121 - val_acc: 0.7710\n",
      "Epoch 66/100\n",
      "100/100 [==============================] - 15s 146ms/step - loss: 0.4754 - acc: 0.7865 - val_loss: 0.4661 - val_acc: 0.7680\n",
      "Epoch 67/100\n",
      "100/100 [==============================] - 14s 145ms/step - loss: 0.4799 - acc: 0.7765 - val_loss: 0.4574 - val_acc: 0.7740\n",
      "Epoch 68/100\n",
      "100/100 [==============================] - 15s 154ms/step - loss: 0.4937 - acc: 0.7645 - val_loss: 0.5034 - val_acc: 0.7350\n",
      "Epoch 69/100\n",
      "100/100 [==============================] - 15s 145ms/step - loss: 0.4880 - acc: 0.7730 - val_loss: 0.4975 - val_acc: 0.7590\n",
      "Epoch 70/100\n",
      "100/100 [==============================] - 15s 146ms/step - loss: 0.4758 - acc: 0.7800 - val_loss: 0.4555 - val_acc: 0.7740\n",
      "Epoch 71/100\n",
      "100/100 [==============================] - 15s 146ms/step - loss: 0.4780 - acc: 0.7825 - val_loss: 0.4691 - val_acc: 0.7810\n",
      "Epoch 72/100\n",
      "100/100 [==============================] - 15s 147ms/step - loss: 0.4735 - acc: 0.7720 - val_loss: 0.5297 - val_acc: 0.7360\n",
      "Epoch 73/100\n",
      "100/100 [==============================] - 15s 146ms/step - loss: 0.4846 - acc: 0.7820 - val_loss: 0.4721 - val_acc: 0.7800\n",
      "Epoch 74/100\n",
      "100/100 [==============================] - 15s 147ms/step - loss: 0.4811 - acc: 0.7835 - val_loss: 0.4481 - val_acc: 0.7850\n",
      "Epoch 75/100\n",
      "100/100 [==============================] - 15s 147ms/step - loss: 0.4791 - acc: 0.7730 - val_loss: 0.4622 - val_acc: 0.7750\n",
      "Epoch 76/100\n",
      "100/100 [==============================] - 15s 147ms/step - loss: 0.4661 - acc: 0.7845 - val_loss: 0.4977 - val_acc: 0.7690\n",
      "Epoch 77/100\n",
      "100/100 [==============================] - 16s 158ms/step - loss: 0.4631 - acc: 0.7925 - val_loss: 0.4589 - val_acc: 0.7840\n",
      "Epoch 78/100\n",
      "100/100 [==============================] - 15s 146ms/step - loss: 0.4679 - acc: 0.7955 - val_loss: 0.4449 - val_acc: 0.7860\n",
      "Epoch 79/100\n",
      "100/100 [==============================] - 15s 147ms/step - loss: 0.4668 - acc: 0.7805 - val_loss: 0.5091 - val_acc: 0.7530\n",
      "Epoch 80/100\n",
      "100/100 [==============================] - 15s 148ms/step - loss: 0.4787 - acc: 0.7810 - val_loss: 0.4793 - val_acc: 0.7700\n",
      "Epoch 81/100\n",
      "100/100 [==============================] - 15s 147ms/step - loss: 0.4780 - acc: 0.7845 - val_loss: 0.4885 - val_acc: 0.7510\n",
      "Epoch 82/100\n",
      "100/100 [==============================] - 15s 147ms/step - loss: 0.4587 - acc: 0.7820 - val_loss: 0.4691 - val_acc: 0.7810\n",
      "Epoch 83/100\n",
      "100/100 [==============================] - 15s 148ms/step - loss: 0.4508 - acc: 0.7945 - val_loss: 0.4405 - val_acc: 0.8010\n",
      "Epoch 84/100\n",
      "100/100 [==============================] - 15s 147ms/step - loss: 0.4534 - acc: 0.7930 - val_loss: 0.4563 - val_acc: 0.7760\n",
      "Epoch 85/100\n",
      "100/100 [==============================] - 15s 146ms/step - loss: 0.4593 - acc: 0.7870 - val_loss: 0.5587 - val_acc: 0.7540\n",
      "Epoch 86/100\n",
      "100/100 [==============================] - 15s 147ms/step - loss: 0.4564 - acc: 0.7945 - val_loss: 0.5028 - val_acc: 0.7570\n",
      "Epoch 87/100\n",
      "100/100 [==============================] - 15s 145ms/step - loss: 0.4432 - acc: 0.7945 - val_loss: 0.6126 - val_acc: 0.7450\n",
      "Epoch 88/100\n",
      "100/100 [==============================] - 15s 146ms/step - loss: 0.4669 - acc: 0.7830 - val_loss: 0.4564 - val_acc: 0.7800\n",
      "Epoch 89/100\n",
      "100/100 [==============================] - 15s 153ms/step - loss: 0.4617 - acc: 0.7780 - val_loss: 0.4369 - val_acc: 0.7860\n",
      "Epoch 90/100\n",
      "100/100 [==============================] - 15s 146ms/step - loss: 0.4515 - acc: 0.7955 - val_loss: 0.4485 - val_acc: 0.8020\n",
      "Epoch 91/100\n",
      "100/100 [==============================] - 16s 157ms/step - loss: 0.4506 - acc: 0.7885 - val_loss: 0.4480 - val_acc: 0.7910\n",
      "Epoch 92/100\n",
      "100/100 [==============================] - 15s 146ms/step - loss: 0.4374 - acc: 0.8135 - val_loss: 0.4268 - val_acc: 0.7910\n",
      "Epoch 93/100\n",
      "100/100 [==============================] - 15s 146ms/step - loss: 0.4418 - acc: 0.8045 - val_loss: 0.4288 - val_acc: 0.7890\n",
      "Epoch 94/100\n",
      "100/100 [==============================] - 15s 149ms/step - loss: 0.4403 - acc: 0.8070 - val_loss: 0.5064 - val_acc: 0.7590\n",
      "Epoch 95/100\n",
      "100/100 [==============================] - 15s 146ms/step - loss: 0.4477 - acc: 0.7960 - val_loss: 0.4467 - val_acc: 0.7840\n",
      "Epoch 96/100\n",
      "100/100 [==============================] - 16s 156ms/step - loss: 0.4197 - acc: 0.8060 - val_loss: 0.4580 - val_acc: 0.7860\n",
      "Epoch 97/100\n",
      "100/100 [==============================] - 14s 145ms/step - loss: 0.4424 - acc: 0.8010 - val_loss: 0.4956 - val_acc: 0.7680\n",
      "Epoch 98/100\n",
      "100/100 [==============================] - 15s 147ms/step - loss: 0.4386 - acc: 0.7970 - val_loss: 0.4532 - val_acc: 0.7760\n",
      "Epoch 99/100\n",
      "100/100 [==============================] - 15s 146ms/step - loss: 0.4292 - acc: 0.8075 - val_loss: 0.4256 - val_acc: 0.7930\n",
      "Epoch 100/100\n",
      "100/100 [==============================] - 14s 145ms/step - loss: 0.4406 - acc: 0.8070 - val_loss: 0.4551 - val_acc: 0.7740\n"
     ]
    }
   ],
   "source": [
    "history = model.fit(\n",
    "      train_generator,\n",
    "      steps_per_epoch=100,\n",
    "      epochs=100,\n",
    "      validation_data=validation_generator,\n",
    "      validation_steps=50)"
   ]
  },
  {
   "cell_type": "code",
   "execution_count": null,
   "metadata": {
    "id": "kBYuLE8ewh7M"
   },
   "outputs": [],
   "source": [
    "model.save('cats_and_dogs_small_2.h5')"
   ]
  },
  {
   "cell_type": "markdown",
   "metadata": {
    "id": "JUV3grWHwh7M"
   },
   "source": [
    "Let's plot our results again:"
   ]
  },
  {
   "cell_type": "code",
   "execution_count": null,
   "metadata": {
    "id": "l_PPx4M8wh7M",
    "outputId": "2a833109-cbff-4bb8-9576-e29f5fd77a4e",
    "colab": {
     "base_uri": "https://localhost:8080/",
     "height": 887
    },
    "executionInfo": {
     "status": "ok",
     "timestamp": 1687839793082,
     "user_tz": -480,
     "elapsed": 746,
     "user": {
      "displayName": "Sergio Kun",
      "userId": "00471915761571772101"
     }
    }
   },
   "outputs": [
    {
     "output_type": "display_data",
     "data": {
      "text/plain": [
       "<Figure size 640x480 with 1 Axes>"
      ],
      "image/png": "[encoded data removed]"
     },
     "metadata": {}
    },
    {
     "output_type": "display_data",
     "data": {
      "text/plain": [
       "<Figure size 640x480 with 1 Axes>"
      ],
      "image/png": "[encoded data removed]"
     },
     "metadata": {}
    }
   ],
   "source": [
    "acc = history.history['acc']\n",
    "val_acc = history.history['val_acc']\n",
    "loss = history.history['loss']\n",
    "val_loss = history.history['val_loss']\n",
    "\n",
    "epochs = range(len(acc))\n",
    "\n",
    "plt.plot(epochs, acc, 'bo', label='Training acc')\n",
    "plt.plot(epochs, val_acc, 'b', label='Validation acc')\n",
    "plt.title('Training and validation accuracy')\n",
    "plt.legend()\n",
    "\n",
    "plt.figure()\n",
    "\n",
    "plt.plot(epochs, loss, 'bo', label='Training loss')\n",
    "plt.plot(epochs, val_loss, 'b', label='Validation loss')\n",
    "plt.title('Training and validation loss')\n",
    "plt.legend()\n",
    "\n",
    "plt.show()"
   ]
  },
  {
   "cell_type": "markdown",
   "metadata": {
    "id": "Zi-p_wTgwh7N"
   },
   "source": [
    "Thanks to data augmentation and dropout, we are no longer overfitting: the training curves are rather closely tracking the validation curves. We are now able to reach an accuracy of 75%, a 15% relative improvement over the non-regularized model."
   ]
  },
  {
   "cell_type": "markdown",
   "metadata": {
    "id": "8VBGh0hvwh7N"
   },
   "source": [
    "## 2. Exercise - tuning model parameters <a id='exc' />\n",
    "\n",
    "Please try to further improve model performance by tuning below hyperparameters:\n",
    "* `batch_size` and `steps_per_epoch` (Do note: `steps_per_epoch` = total number of train samples // `batch_size`)\n",
    "* Optimizer and Optimizer Learning Rate\n",
    "* Any other suitable hyperparameters\n",
    "\n",
    "\n",
    "Provide your codes & comments in the below boxes."
   ]
  },
  {
   "cell_type": "code",
   "source": [
    "train_datagen = ImageDataGenerator(\n",
    "    rescale=1./255,\n",
    "    rotation_range=40,\n",
    "    width_shift_range=0.2,\n",
    "    height_shift_range=0.2,\n",
    "    shear_range=0.2,\n",
    "    zoom_range=0.2,\n",
    "    horizontal_flip=True,)\n",
    "\n",
    "# Note that the validation data should not be augmented!\n",
    "test_datagen = ImageDataGenerator(rescale=1./255)\n",
    "\n",
    "train_generator = train_datagen.flow_from_directory(\n",
    "        # This is the target directory\n",
    "        train_dir,\n",
    "        # All images will be resized to 50x50\n",
    "        target_size=(img_size, img_size),\n",
    "        batch_size=20,\n",
    "        # Since we use binary_crossentropy loss, we need binary labels\n",
    "        class_mode='binary')\n",
    "\n",
    "validation_generator = test_datagen.flow_from_directory(\n",
    "        validation_dir,\n",
    "        target_size=(img_size, img_size),\n",
    "        batch_size=20,\n",
    "        class_mode='binary')"
   ],
   "metadata": {
    "colab": {
     "base_uri": "https://localhost:8080/"
    },
    "id": "rx1U7zA9dSRh",
    "executionInfo": {
     "status": "ok",
     "timestamp": 1687846129068,
     "user_tz": -480,
     "elapsed": 464,
     "user": {
      "displayName": "Sergio Kun",
      "userId": "00471915761571772101"
     }
    },
    "outputId": "dc389416-42b6-4f22-9319-96a53155eba2"
   },
   "execution_count": null,
   "outputs": [
    {
     "output_type": "stream",
     "name": "stdout",
     "text": [
      "Found 2000 images belonging to 2 classes.\n",
      "Found 1000 images belonging to 2 classes.\n"
     ]
    }
   ]
  },
  {
   "cell_type": "code",
   "source": [
    "# try to modify parameters to increase accuracy while lowering accuracy loss.\n",
    "from tensorflow.keras import layers\n",
    "from tensorflow.keras import models\n",
    "\n",
    "# We set image size as 50*50\n",
    "img_size = 50\n",
    "\n",
    "model = models.Sequential()\n",
    "model.add(layers.Conv2D(32, (3, 3), activation='relu',\n",
    "                        input_shape=(img_size, img_size, 3)))\n",
    "model.add(layers.MaxPooling2D((2, 2)))\n",
    "model.add(layers.Conv2D(64, (3, 3), activation='relu'))\n",
    "model.add(layers.MaxPooling2D((2, 2)))\n",
    "model.add(layers.Conv2D(128, (3, 3), activation='relu'))\n",
    "model.add(layers.MaxPooling2D((2, 2)))\n",
    "model.add(layers.Conv2D(128, (3, 3), activation='relu'))\n",
    "model.add(layers.MaxPooling2D((2, 2)))\n",
    "model.add(layers.Flatten())\n",
    "model.add(layers.Dropout(0.5))\n",
    "model.add(layers.Dense(512, activation='relu'))\n",
    "model.add(layers.Dense(1, activation='sigmoid'))\n",
    "\n",
    "model.summary()\n",
    "\n",
    "model.compile(loss='binary_crossentropy',\n",
    "              optimizer=optimizers.RMSprop(lr=0.001),\n",
    "              metrics=['acc'])"
   ],
   "metadata": {
    "id": "kEiUg10ZXCjl",
    "colab": {
     "base_uri": "https://localhost:8080/"
    },
    "executionInfo": {
     "status": "ok",
     "timestamp": 1687846135808,
     "user_tz": -480,
     "elapsed": 606,
     "user": {
      "displayName": "Sergio Kun",
      "userId": "00471915761571772101"
     }
    },
    "outputId": "989b46cd-6244-46e2-99b3-5ff8d1693255"
   },
   "execution_count": null,
   "outputs": [
    {
     "output_type": "stream",
     "name": "stdout",
     "text": [
      "Model: \"sequential_1\"\n",
      "_________________________________________________________________\n",
      " Layer (type)                Output Shape              Param #   \n",
      "=================================================================\n",
      " conv2d_4 (Conv2D)           (None, 48, 48, 32)        896       \n",
      "                                                                 \n",
      " max_pooling2d_4 (MaxPooling  (None, 24, 24, 32)       0         \n",
      " 2D)                                                             \n",
      "                                                                 \n",
      " conv2d_5 (Conv2D)           (None, 22, 22, 64)        18496     \n",
      "                                                                 \n",
      " max_pooling2d_5 (MaxPooling  (None, 11, 11, 64)       0         \n",
      " 2D)                                                             \n",
      "                                                                 \n",
      " conv2d_6 (Conv2D)           (None, 9, 9, 128)         73856     \n",
      "                                                                 \n",
      " max_pooling2d_6 (MaxPooling  (None, 4, 4, 128)        0         \n",
      " 2D)                                                             \n",
      "                                                                 \n",
      " conv2d_7 (Conv2D)           (None, 2, 2, 128)         147584    \n",
      "                                                                 \n",
      " max_pooling2d_7 (MaxPooling  (None, 1, 1, 128)        0         \n",
      " 2D)                                                             \n",
      "                                                                 \n",
      " flatten_1 (Flatten)         (None, 128)               0         \n",
      "                                                                 \n",
      " dropout (Dropout)           (None, 128)               0         \n",
      "                                                                 \n",
      " dense_2 (Dense)             (None, 512)               66048     \n",
      "                                                                 \n",
      " dense_3 (Dense)             (None, 1)                 513       \n",
      "                                                                 \n",
      "=================================================================\n",
      "Total params: 307,393\n",
      "Trainable params: 307,393\n",
      "Non-trainable params: 0\n",
      "_________________________________________________________________\n"
     ]
    },
    {
     "output_type": "stream",
     "name": "stderr",
     "text": [
      "WARNING:absl:`lr` is deprecated in Keras optimizer, please use `learning_rate` or use the legacy optimizer, e.g.,tf.keras.optimizers.legacy.RMSprop.\n"
     ]
    }
   ]
  },
  {
   "cell_type": "code",
   "source": [
    "history = model.fit(\n",
    "      train_generator,\n",
    "      steps_per_epoch=50, # (total no. of train samples / batch size)\n",
    "      epochs=150,\n",
    "      validation_data=validation_generator,\n",
    "      validation_steps=50)"
   ],
   "metadata": {
    "colab": {
     "base_uri": "https://localhost:8080/"
    },
    "id": "vhtn_N6o9BbP",
    "executionInfo": {
     "status": "ok",
     "timestamp": 1687848763748,
     "user_tz": -480,
     "elapsed": 982743,
     "user": {
      "displayName": "Sergio Kun",
      "userId": "00471915761571772101"
     }
    },
    "outputId": "e08f2035-fc11-4d4a-97bd-51bc35272edf",
    "ExecuteTime": {
     "end_time": "2024-02-26T06:58:41.759094Z",
     "start_time": "2024-02-26T06:58:41.424667Z"
    }
   },
   "execution_count": 1,
   "outputs": [
    {
     "ename": "NameError",
     "evalue": "name 'model' is not defined",
     "output_type": "error",
     "traceback": [
      "\u001B[0;31m---------------------------------------------------------------------------\u001B[0m",
      "\u001B[0;31mNameError\u001B[0m                                 Traceback (most recent call last)",
      "Cell \u001B[0;32mIn[1], line 1\u001B[0m\n\u001B[0;32m----> 1\u001B[0m history \u001B[38;5;241m=\u001B[39m \u001B[43mmodel\u001B[49m\u001B[38;5;241m.\u001B[39mfit(\n\u001B[1;32m      2\u001B[0m       train_generator,\n\u001B[1;32m      3\u001B[0m       steps_per_epoch\u001B[38;5;241m=\u001B[39m\u001B[38;5;241m50\u001B[39m, \u001B[38;5;66;03m# (total no. of train samples / batch size)\u001B[39;00m\n\u001B[1;32m      4\u001B[0m       epochs\u001B[38;5;241m=\u001B[39m\u001B[38;5;241m150\u001B[39m,\n\u001B[1;32m      5\u001B[0m       validation_data\u001B[38;5;241m=\u001B[39mvalidation_generator,\n\u001B[1;32m      6\u001B[0m       validation_steps\u001B[38;5;241m=\u001B[39m\u001B[38;5;241m50\u001B[39m)\n",
      "\u001B[0;31mNameError\u001B[0m: name 'model' is not defined"
     ]
    }
   ]
  },
  {
   "cell_type": "code",
   "source": [
    "import matplotlib.pyplot as plt\n",
    "%matplotlib inline\n",
    "\n",
    "acc = history.history['acc']\n",
    "val_acc = history.history['val_acc']\n",
    "loss = history.history['loss']\n",
    "val_loss = history.history['val_loss']\n",
    "\n",
    "epochs = range(len(acc))\n",
    "\n",
    "plt.plot(epochs, acc, 'bo', label='Training acc')\n",
    "plt.plot(epochs, val_acc, 'b', label='Validation acc')\n",
    "plt.title('Training and validation accuracy')\n",
    "plt.legend()\n",
    "\n",
    "plt.figure()\n",
    "\n",
    "plt.plot(epochs, loss, 'bo', label='Training loss')\n",
    "plt.plot(epochs, val_loss, 'b', label='Validation loss')\n",
    "plt.title('Training and validation loss')\n",
    "plt.legend()\n",
    "\n",
    "plt.show()"
   ],
   "metadata": {
    "id": "j_XaxTw1XCcW",
    "colab": {
     "base_uri": "https://localhost:8080/",
     "height": 887
    },
    "executionInfo": {
     "status": "ok",
     "timestamp": 1687848764431,
     "user_tz": -480,
     "elapsed": 696,
     "user": {
      "displayName": "Sergio Kun",
      "userId": "00471915761571772101"
     }
    },
    "outputId": "767b3a8e-7a0c-41ef-e19f-00c9e8a84bd7",
    "ExecuteTime": {
     "start_time": "2024-02-26T06:58:41.756105Z"
    }
   },
   "execution_count": null,
   "outputs": []
  },
  {
   "cell_type": "code",
   "source": [
    "# upward trend as the epochs go on, though there is eratic validation accuracy and loss around 20 epochs"
   ],
   "metadata": {
    "id": "cT79GwstXCNs"
   },
   "execution_count": null,
   "outputs": []
  }
 ],
 "metadata": {
  "kernelspec": {
   "display_name": "Python 3",
   "language": "python",
   "name": "python3"
  },
  "language_info": {
   "codemirror_mode": {
    "name": "ipython",
    "version": 3
   },
   "file_extension": ".py",
   "mimetype": "text/x-python",
   "name": "python",
   "nbconvert_exporter": "python",
   "pygments_lexer": "ipython3",
   "version": "3.7.10"
  },
  "colab": {
   "provenance": []
  },
  "accelerator": "GPU",
  "gpuClass": "standard"
 },
 "nbformat": 4,
 "nbformat_minor": 0
}
